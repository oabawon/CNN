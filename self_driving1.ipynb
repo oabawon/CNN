{
 "cells": [
  {
   "cell_type": "code",
   "execution_count": 1,
   "metadata": {},
   "outputs": [
    {
     "name": "stderr",
     "output_type": "stream",
     "text": [
      "2023-05-26 13:20:41.091539: I tensorflow/core/platform/cpu_feature_guard.cc:193] This TensorFlow binary is optimized with oneAPI Deep Neural Network Library (oneDNN) to use the following CPU instructions in performance-critical operations:  AVX2 FMA\n",
      "To enable them in other operations, rebuild TensorFlow with the appropriate compiler flags.\n",
      "2023-05-26 13:20:42.321050: W tensorflow/compiler/xla/stream_executor/platform/default/dso_loader.cc:64] Could not load dynamic library 'libcudart.so.11.0'; dlerror: libcudart.so.11.0: cannot open shared object file: No such file or directory; LD_LIBRARY_PATH: /root/miniconda3/envs/fibered/lib/python3.9/site-packages/cv2/../../lib64:\n",
      "2023-05-26 13:20:42.321092: I tensorflow/compiler/xla/stream_executor/cuda/cudart_stub.cc:29] Ignore above cudart dlerror if you do not have a GPU set up on your machine.\n",
      "2023-05-26 13:20:44.767100: W tensorflow/compiler/xla/stream_executor/platform/default/dso_loader.cc:64] Could not load dynamic library 'libnvinfer.so.7'; dlerror: libnvinfer.so.7: cannot open shared object file: No such file or directory; LD_LIBRARY_PATH: /root/miniconda3/envs/fibered/lib/python3.9/site-packages/cv2/../../lib64:\n",
      "2023-05-26 13:20:44.767658: W tensorflow/compiler/xla/stream_executor/platform/default/dso_loader.cc:64] Could not load dynamic library 'libnvinfer_plugin.so.7'; dlerror: libnvinfer_plugin.so.7: cannot open shared object file: No such file or directory; LD_LIBRARY_PATH: /root/miniconda3/envs/fibered/lib/python3.9/site-packages/cv2/../../lib64:\n",
      "2023-05-26 13:20:44.767680: W tensorflow/compiler/tf2tensorrt/utils/py_utils.cc:38] TF-TRT Warning: Cannot dlopen some TensorRT libraries. If you would like to use Nvidia GPU with TensorRT, please make sure the missing libraries mentioned above are installed properly.\n"
     ]
    }
   ],
   "source": [
    "from __future__ import division\n",
    "import random,pickle,csv,cv2,os,scipy,pickle,warnings,matplotlib\n",
    "import pandas as pd\n",
    "import numpy as np\n",
    "import tensorflow as tf\n",
    "import matplotlib.pyplot as plt\n",
    "import seaborn as sns\n",
    "import gc\n",
    "\n",
    "from sklearn.model_selection import train_test_split\n",
    "from sklearn.utils import shuffle\n",
    "from scipy.stats import norm,skew\n",
    "from itertools import islice\n",
    "\n",
    "import keras.backend as K\n",
    "from keras.callbacks import History\n",
    "from keras.layers import Dense,Flatten,Dropout,Concatenate,GlobalAveragePooling2D,Lambda,ZeroPadding2D,GlobalMaxPooling2D\n",
    "from keras.layers import SeparableConv2D,BatchNormalization,MaxPooling2D,Conv2D\n",
    "from keras.applications.mobilenet_v2 import MobileNetV2\n",
    "#from keras.utils import print_summary\n",
    "from keras.models import Sequential\n",
    "from keras.callbacks import ModelCheckpoint,EarlyStopping,TensorBoard,CSVLogger,ReduceLROnPlateau,LearningRateScheduler\n",
    "from keras.optimizers import Adam,SGD\n",
    "from keras import applications\n",
    "from keras.utils.vis_utils import plot_model\n",
    "\n",
    "#print(os.listdir('../input/self driving car training data/data'))\n",
    "warnings.filterwarnings('ignore')"
   ]
  },
  {
   "cell_type": "code",
   "execution_count": 11,
   "metadata": {},
   "outputs": [
    {
     "data": {
      "text/plain": [
       "array([[[ 3,  2,  1],\n",
       "        [ 6,  5,  4],\n",
       "        [ 9,  8,  7]],\n",
       "\n",
       "       [[ 0,  1,  0],\n",
       "        [ 2, -1, -1],\n",
       "        [-3, -4, -5]]])"
      ]
     },
     "execution_count": 11,
     "metadata": {},
     "output_type": "execute_result"
    }
   ],
   "source": [
    "import numpy as np\n",
    "\n",
    "A = np.array([[[1,2,3], [4,5,6], [7,8,9]], [[0,1,0], [-1,-1, 2], [-5,-4,-3]]])\n",
    "A[:,:,::-1]\n",
    "#A"
   ]
  },
  {
   "cell_type": "code",
   "execution_count": 13,
   "metadata": {},
   "outputs": [
    {
     "data": {
      "text/plain": [
       "array([[[ 1,  2,  3],\n",
       "        [ 4,  5,  6],\n",
       "        [ 7,  8,  9]],\n",
       "\n",
       "       [[ 0,  1,  0],\n",
       "        [-1, -1,  2],\n",
       "        [-5, -4, -3]],\n",
       "\n",
       "       [[ 3,  2,  1],\n",
       "        [ 6,  5,  4],\n",
       "        [ 9,  8,  7]],\n",
       "\n",
       "       [[ 0,  1,  0],\n",
       "        [ 2, -1, -1],\n",
       "        [-3, -4, -5]]])"
      ]
     },
     "execution_count": 13,
     "metadata": {},
     "output_type": "execute_result"
    }
   ],
   "source": [
    "B= np.append(A, A[:, :, ::-1], axis=0  )\n",
    "B"
   ]
  },
  {
   "cell_type": "code",
   "execution_count": 4,
   "metadata": {},
   "outputs": [
    {
     "data": {
      "text/plain": [
       "array([[1, 2, 3, 3, 2, 1],\n",
       "       [4, 5, 6, 6, 5, 4],\n",
       "       [7, 8, 9, 9, 8, 7]])"
      ]
     },
     "execution_count": 4,
     "metadata": {},
     "output_type": "execute_result"
    }
   ],
   "source": [
    "B = np.append(A, A[:, ::-1], axis=1)\n",
    "B"
   ]
  },
  {
   "cell_type": "code",
   "execution_count": 2,
   "metadata": {},
   "outputs": [
    {
     "data": {
      "text/plain": [
       "array([[7, 8, 9],\n",
       "       [4, 5, 6],\n",
       "       [1, 2, 3]])"
      ]
     },
     "execution_count": 2,
     "metadata": {},
     "output_type": "execute_result"
    }
   ],
   "source": [
    "A[::-1, :]"
   ]
  },
  {
   "cell_type": "code",
   "execution_count": 2,
   "metadata": {},
   "outputs": [],
   "source": [
    "def show_final_history(history):\n",
    "    fig, ax = plt.subplots(1, 2, figsize=(15,5))\n",
    "    ax[0].set_title('loss')\n",
    "    ax[0].plot(history.epoch, history.history[\"loss\"], label=\"Train loss\")\n",
    "    ax[0].plot(history.epoch, history.history[\"val_loss\"], label=\"Validation loss\")\n",
    "    ax[1].set_title('acc')\n",
    "    ax[1].plot(history.epoch, history.history[\"acc\"], label=\"Train acc\")\n",
    "    ax[1].plot(history.epoch, history.history[\"val_acc\"], label=\"Validation acc\")\n",
    "    ax[0].legend()\n",
    "    ax[1].legend()"
   ]
  },
  {
   "cell_type": "code",
   "execution_count": 3,
   "metadata": {},
   "outputs": [],
   "source": [
    "def image_preprocessing(img):\n",
    "    resized_image = cv2.resize((cv2.cvtColor(img,cv2.COLOR_RGB2HSV))[:,:,1],(40,40))\n",
    "    return resized_image"
   ]
  },
  {
   "cell_type": "code",
   "execution_count": 4,
   "metadata": {},
   "outputs": [],
   "source": [
    "def load_training(delta):\n",
    "    logs = []\n",
    "    features = []\n",
    "    labels = []\n",
    "    with open(labels_file,'rt') as f:\n",
    "        reader = csv.reader(f)\n",
    "        for line in reader:\n",
    "            logs.append(line)\n",
    "        log_labels = logs.pop(0)\n",
    "        \n",
    "    for i in range(len(logs)):\n",
    "        for j in range(3):\n",
    "            img_path = logs[i][j]\n",
    "            img_path = features_directory + 'IMG' + (img_path.split('IMG')[1]).strip()\n",
    "            img = plt.imread(img_path)\n",
    "            features.append(image_preprocessing(img))\n",
    "            \n",
    "            if j == 0:\n",
    "                labels.append(float(logs[i][3]))\n",
    "            elif j == 1:\n",
    "                labels.append(float(logs[i][3]) + delta)\n",
    "            else:\n",
    "                labels.append(float(logs[i][3]) - delta)\n",
    "    return features,labels"
   ]
  },
  {
   "cell_type": "code",
   "execution_count": 5,
   "metadata": {},
   "outputs": [],
   "source": [
    "def loadFromPickle():\n",
    "    with open('features','rb') as f:\n",
    "        features = np.array(pickle.load(f))\n",
    "    with open('labels','rb') as f:\n",
    "        labels = np.array(pickle.load(f))\n",
    "    return features,labels\n",
    "\n",
    "def augmentData(features,labels):\n",
    "    features = np.append(features,features[:,:,::-1],axis=0)\n",
    "    labels = np.append(labels,-labels,axis=0)\n",
    "    return features,labels"
   ]
  },
  {
   "cell_type": "code",
   "execution_count": 9,
   "metadata": {},
   "outputs": [
    {
     "name": "stdout",
     "output_type": "stream",
     "text": [
      "0.20.1\n"
     ]
    }
   ],
   "source": [
    "import graphviz\n",
    "print(graphviz.__version__)"
   ]
  },
  {
   "cell_type": "code",
   "execution_count": 19,
   "metadata": {},
   "outputs": [],
   "source": [
    "features_directory = 'self_driving_data/'\n",
    "#features_directory = '../input/self driving car training data/data/'\n",
    "labels_file = 'self_driving_data/driving_log.csv'"
   ]
  },
  {
   "cell_type": "code",
   "execution_count": 20,
   "metadata": {},
   "outputs": [],
   "source": [
    "delta = 0.2\n",
    "features,labels = load_training(delta)\n",
    "\n",
    "features = np.array(features).astype('float32')\n",
    "labels = np.array(labels).astype('float32')\n",
    "\n",
    "with open('features','wb') as f:\n",
    "    pickle.dump(features,f,protocol=4)\n",
    "with open('labels','wb') as f:\n",
    "    pickle.dump(labels,f,protocol=4)"
   ]
  },
  {
   "cell_type": "code",
   "execution_count": 21,
   "metadata": {},
   "outputs": [
    {
     "ename": "AttributeError",
     "evalue": "module 'pandas' has no attribute 'Panel'",
     "output_type": "error",
     "traceback": [
      "\u001b[0;31m---------------------------------------------------------------------------\u001b[0m",
      "\u001b[0;31mAttributeError\u001b[0m                            Traceback (most recent call last)",
      "Cell \u001b[0;32mIn[21], line 1\u001b[0m\n\u001b[0;32m----> 1\u001b[0m pan \u001b[39m=\u001b[39m pd\u001b[39m.\u001b[39;49mPanel(features)\n\u001b[1;32m      2\u001b[0m df \u001b[39m=\u001b[39m pan\u001b[39m.\u001b[39mswapaxes(\u001b[39m1\u001b[39m,\u001b[39m2\u001b[39m)\u001b[39m.\u001b[39mto_frame()\n\u001b[1;32m      3\u001b[0m df\u001b[39m.\u001b[39mindex \u001b[39m=\u001b[39m df\u001b[39m.\u001b[39mindex\u001b[39m.\u001b[39mdroplevel(\u001b[39m'\u001b[39m\u001b[39mmajor\u001b[39m\u001b[39m'\u001b[39m)\n",
      "File \u001b[0;32m~/miniconda3/envs/fibered/lib/python3.9/site-packages/pandas/__init__.py:244\u001b[0m, in \u001b[0;36m__getattr__\u001b[0;34m(name)\u001b[0m\n\u001b[1;32m    240\u001b[0m     \u001b[39mfrom\u001b[39;00m \u001b[39mpandas\u001b[39;00m\u001b[39m.\u001b[39;00m\u001b[39mcore\u001b[39;00m\u001b[39m.\u001b[39;00m\u001b[39marrays\u001b[39;00m\u001b[39m.\u001b[39;00m\u001b[39msparse\u001b[39;00m \u001b[39mimport\u001b[39;00m SparseArray \u001b[39mas\u001b[39;00m _SparseArray\n\u001b[1;32m    242\u001b[0m     \u001b[39mreturn\u001b[39;00m _SparseArray\n\u001b[0;32m--> 244\u001b[0m \u001b[39mraise\u001b[39;00m \u001b[39mAttributeError\u001b[39;00m(\u001b[39mf\u001b[39m\u001b[39m\"\u001b[39m\u001b[39mmodule \u001b[39m\u001b[39m'\u001b[39m\u001b[39mpandas\u001b[39m\u001b[39m'\u001b[39m\u001b[39m has no attribute \u001b[39m\u001b[39m'\u001b[39m\u001b[39m{\u001b[39;00mname\u001b[39m}\u001b[39;00m\u001b[39m'\u001b[39m\u001b[39m\"\u001b[39m)\n",
      "\u001b[0;31mAttributeError\u001b[0m: module 'pandas' has no attribute 'Panel'"
     ]
    }
   ],
   "source": [
    "pan = pd.Panel(features)\n",
    "df = pan.swapaxes(1,2).to_frame()\n",
    "df.index = df.index.droplevel('major')\n",
    "df.index = df.index+1"
   ]
  },
  {
   "cell_type": "code",
   "execution_count": 6,
   "metadata": {},
   "outputs": [],
   "source": [
    "features,labels = loadFromPickle()\n",
    "features,labels = shuffle(features,labels)\n",
    "\n",
    "x_train,x_val,y_train,y_val = train_test_split(features,labels,random_state=42,test_size=0.2)\n",
    "\n",
    "x_train = x_train.reshape(x_train.shape[0],40,40,1)\n",
    "x_val = x_val.reshape(x_val.shape[0],40,40,1)"
   ]
  },
  {
   "cell_type": "code",
   "execution_count": 7,
   "metadata": {},
   "outputs": [
    {
     "name": "stderr",
     "output_type": "stream",
     "text": [
      "2023-05-26 13:21:31.706750: W tensorflow/compiler/xla/stream_executor/platform/default/dso_loader.cc:64] Could not load dynamic library 'libcuda.so.1'; dlerror: libcuda.so.1: cannot open shared object file: No such file or directory; LD_LIBRARY_PATH: /root/miniconda3/envs/fibered/lib/python3.9/site-packages/cv2/../../lib64:\n",
      "2023-05-26 13:21:31.706967: W tensorflow/compiler/xla/stream_executor/cuda/cuda_driver.cc:265] failed call to cuInit: UNKNOWN ERROR (303)\n",
      "2023-05-26 13:21:31.707085: I tensorflow/compiler/xla/stream_executor/cuda/cuda_diagnostics.cc:156] kernel driver does not appear to be running on this host (DESKTOP-88TBBTR): /proc/driver/nvidia/version does not exist\n",
      "2023-05-26 13:21:31.708068: I tensorflow/core/platform/cpu_feature_guard.cc:193] This TensorFlow binary is optimized with oneAPI Deep Neural Network Library (oneDNN) to use the following CPU instructions in performance-critical operations:  AVX2 FMA\n",
      "To enable them in other operations, rebuild TensorFlow with the appropriate compiler flags.\n"
     ]
    },
    {
     "name": "stdout",
     "output_type": "stream",
     "text": [
      "Model: \"sequential\"\n",
      "_________________________________________________________________\n",
      " Layer (type)                Output Shape              Param #   \n",
      "=================================================================\n",
      " mobilenetv2_1.00_40 (Functi  (None, 2, 2, 1280)       2257408   \n",
      " onal)                                                           \n",
      "                                                                 \n",
      " global_average_pooling2d (G  (None, 1280)             0         \n",
      " lobalAveragePooling2D)                                          \n",
      "                                                                 \n",
      " dropout (Dropout)           (None, 1280)              0         \n",
      "                                                                 \n",
      " dense (Dense)               (None, 1)                 1281      \n",
      "                                                                 \n",
      "=================================================================\n",
      "Total params: 2,258,689\n",
      "Trainable params: 1,281\n",
      "Non-trainable params: 2,257,408\n",
      "_________________________________________________________________\n"
     ]
    },
    {
     "data": {
      "image/png": "[encoded data removed]",
      "text/plain": [
       "<IPython.core.display.Image object>"
      ]
     },
     "execution_count": 7,
     "metadata": {},
     "output_type": "execute_result"
    }
   ],
   "source": [
    "base_model = MobileNetV2(include_top=False,weights=None,input_shape=(40,40,1))\n",
    "\n",
    "for layer in base_model.layers:\n",
    "    layer.trainable = False\n",
    "    \n",
    "model = Sequential()\n",
    "model.add(base_model)\n",
    "model.add(GlobalAveragePooling2D())\n",
    "model.add(Dropout(0.5))\n",
    "model.add(Dense(1,activation='sigmoid'))\n",
    "model.summary()\n",
    "plot_model(model, to_file='model_plot.png', show_shapes=True, show_layer_names=True)"
   ]
  },
  {
   "cell_type": "code",
   "execution_count": 8,
   "metadata": {},
   "outputs": [
    {
     "name": "stdout",
     "output_type": "stream",
     "text": [
      "WARNING:tensorflow:`period` argument is deprecated. Please use `save_freq` to specify the frequency in number of batches seen.\n",
      "WARNING:tensorflow:`write_grads` will be ignored in TensorFlow 2.0 for the `TensorBoard` Callback.\n",
      "WARNING:tensorflow:`batch_size` is no longer needed in the `TensorBoard` Callback and will be ignored in TensorFlow 2.0.\n"
     ]
    }
   ],
   "source": [
    "#-------Callbacks-------------#\n",
    "best_model_weights = './base.model'\n",
    "checkpoint = ModelCheckpoint(\n",
    "    best_model_weights,\n",
    "    monitor='val_loss',\n",
    "    verbose=1,\n",
    "    save_best_only=True,\n",
    "    mode='min',\n",
    "    save_weights_only=False,\n",
    "    period=1\n",
    ")\n",
    "earlystop = EarlyStopping(\n",
    "    monitor='val_loss',\n",
    "    min_delta=0.001,\n",
    "    patience=10,\n",
    "    verbose=1,\n",
    "    mode='auto'\n",
    ")\n",
    "tensorboard = TensorBoard(\n",
    "    log_dir = './logs',\n",
    "    histogram_freq=0,\n",
    "    batch_size=16,\n",
    "    write_graph=True,\n",
    "    write_grads=True,\n",
    "    write_images=False,\n",
    ")\n",
    "\n",
    "csvlogger = CSVLogger(\n",
    "    filename= \"training_csv.log\",\n",
    "    separator = \",\",\n",
    "    append = False\n",
    ")\n",
    "\n",
    "#lrsched = LearningRateScheduler(step_decay,verbose=1)\n",
    "\n",
    "reduce = ReduceLROnPlateau(\n",
    "    monitor='val_loss',\n",
    "    factor=0.5,\n",
    "    patience=10,\n",
    "    verbose=1, \n",
    "    mode='auto',\n",
    "    cooldown=1 \n",
    ")\n",
    "\n",
    "callbacks = [checkpoint,tensorboard,csvlogger,reduce]"
   ]
  },
  {
   "cell_type": "code",
   "execution_count": 9,
   "metadata": {},
   "outputs": [
    {
     "name": "stderr",
     "output_type": "stream",
     "text": [
      "2023-05-26 13:22:49.306192: W tensorflow/tsl/framework/cpu_allocator_impl.cc:82] Allocation of 123430400 exceeds 10% of free system memory.\n"
     ]
    },
    {
     "name": "stdout",
     "output_type": "stream",
     "text": [
      "Epoch 1/50\n",
      "76/76 [==============================] - ETA: 0s - loss: 0.6711 - accuracy: 0.1830\n",
      "Epoch 1: val_loss improved from inf to 0.65200, saving model to ./base.model\n"
     ]
    },
    {
     "name": "stderr",
     "output_type": "stream",
     "text": [
      "WARNING:absl:Function `_wrapped_model` contains input name(s) mobilenetv2_1.00_40_input with unsupported characters which will be renamed to mobilenetv2_1_00_40_input in the SavedModel.\n",
      "WARNING:absl:Found untraced functions such as _update_step_xla, _jit_compiled_convolution_op, _jit_compiled_convolution_op, _jit_compiled_convolution_op, _jit_compiled_convolution_op while saving (showing 5 of 53). These functions will not be directly callable after loading.\n"
     ]
    },
    {
     "name": "stdout",
     "output_type": "stream",
     "text": [
      "INFO:tensorflow:Assets written to: ./base.model/assets\n"
     ]
    },
    {
     "name": "stderr",
     "output_type": "stream",
     "text": [
      "INFO:tensorflow:Assets written to: ./base.model/assets\n"
     ]
    },
    {
     "name": "stdout",
     "output_type": "stream",
     "text": [
      "76/76 [==============================] - 80s 973ms/step - loss: 0.6711 - accuracy: 0.1830 - val_loss: 0.6520 - val_accuracy: 0.1723 - lr: 0.0010\n",
      "Epoch 2/50\n",
      "76/76 [==============================] - ETA: 0s - loss: 0.6347 - accuracy: 0.1830\n",
      "Epoch 2: val_loss improved from 0.65200 to 0.61675, saving model to ./base.model\n"
     ]
    },
    {
     "name": "stderr",
     "output_type": "stream",
     "text": [
      "WARNING:absl:Function `_wrapped_model` contains input name(s) mobilenetv2_1.00_40_input with unsupported characters which will be renamed to mobilenetv2_1_00_40_input in the SavedModel.\n",
      "WARNING:absl:Found untraced functions such as _update_step_xla, _jit_compiled_convolution_op, _jit_compiled_convolution_op, _jit_compiled_convolution_op, _jit_compiled_convolution_op while saving (showing 5 of 53). These functions will not be directly callable after loading.\n"
     ]
    },
    {
     "name": "stdout",
     "output_type": "stream",
     "text": [
      "INFO:tensorflow:Assets written to: ./base.model/assets\n"
     ]
    },
    {
     "name": "stderr",
     "output_type": "stream",
     "text": [
      "INFO:tensorflow:Assets written to: ./base.model/assets\n"
     ]
    },
    {
     "name": "stdout",
     "output_type": "stream",
     "text": [
      "76/76 [==============================] - 68s 903ms/step - loss: 0.6347 - accuracy: 0.1830 - val_loss: 0.6167 - val_accuracy: 0.1723 - lr: 0.0010\n",
      "Epoch 3/50\n",
      "76/76 [==============================] - ETA: 0s - loss: 0.6002 - accuracy: 0.1830\n",
      "Epoch 3: val_loss improved from 0.61675 to 0.58295, saving model to ./base.model\n"
     ]
    },
    {
     "name": "stderr",
     "output_type": "stream",
     "text": [
      "WARNING:absl:Function `_wrapped_model` contains input name(s) mobilenetv2_1.00_40_input with unsupported characters which will be renamed to mobilenetv2_1_00_40_input in the SavedModel.\n",
      "WARNING:absl:Found untraced functions such as _update_step_xla, _jit_compiled_convolution_op, _jit_compiled_convolution_op, _jit_compiled_convolution_op, _jit_compiled_convolution_op while saving (showing 5 of 53). These functions will not be directly callable after loading.\n"
     ]
    },
    {
     "name": "stdout",
     "output_type": "stream",
     "text": [
      "INFO:tensorflow:Assets written to: ./base.model/assets\n"
     ]
    },
    {
     "name": "stderr",
     "output_type": "stream",
     "text": [
      "INFO:tensorflow:Assets written to: ./base.model/assets\n"
     ]
    },
    {
     "name": "stdout",
     "output_type": "stream",
     "text": [
      "76/76 [==============================] - 71s 941ms/step - loss: 0.6002 - accuracy: 0.1830 - val_loss: 0.5829 - val_accuracy: 0.1723 - lr: 0.0010\n",
      "Epoch 4/50\n",
      "76/76 [==============================] - ETA: 0s - loss: 0.5671 - accuracy: 0.1830\n",
      "Epoch 4: val_loss improved from 0.58295 to 0.55056, saving model to ./base.model\n"
     ]
    },
    {
     "name": "stderr",
     "output_type": "stream",
     "text": [
      "WARNING:absl:Function `_wrapped_model` contains input name(s) mobilenetv2_1.00_40_input with unsupported characters which will be renamed to mobilenetv2_1_00_40_input in the SavedModel.\n",
      "WARNING:absl:Found untraced functions such as _update_step_xla, _jit_compiled_convolution_op, _jit_compiled_convolution_op, _jit_compiled_convolution_op, _jit_compiled_convolution_op while saving (showing 5 of 53). These functions will not be directly callable after loading.\n"
     ]
    },
    {
     "name": "stdout",
     "output_type": "stream",
     "text": [
      "INFO:tensorflow:Assets written to: ./base.model/assets\n"
     ]
    },
    {
     "name": "stderr",
     "output_type": "stream",
     "text": [
      "INFO:tensorflow:Assets written to: ./base.model/assets\n"
     ]
    },
    {
     "name": "stdout",
     "output_type": "stream",
     "text": [
      "76/76 [==============================] - 70s 931ms/step - loss: 0.5671 - accuracy: 0.1830 - val_loss: 0.5506 - val_accuracy: 0.1723 - lr: 0.0010\n",
      "Epoch 5/50\n",
      "76/76 [==============================] - ETA: 0s - loss: 0.5355 - accuracy: 0.1830\n",
      "Epoch 5: val_loss improved from 0.55056 to 0.51958, saving model to ./base.model\n"
     ]
    },
    {
     "name": "stderr",
     "output_type": "stream",
     "text": [
      "WARNING:absl:Function `_wrapped_model` contains input name(s) mobilenetv2_1.00_40_input with unsupported characters which will be renamed to mobilenetv2_1_00_40_input in the SavedModel.\n",
      "WARNING:absl:Found untraced functions such as _update_step_xla, _jit_compiled_convolution_op, _jit_compiled_convolution_op, _jit_compiled_convolution_op, _jit_compiled_convolution_op while saving (showing 5 of 53). These functions will not be directly callable after loading.\n"
     ]
    },
    {
     "name": "stdout",
     "output_type": "stream",
     "text": [
      "INFO:tensorflow:Assets written to: ./base.model/assets\n"
     ]
    },
    {
     "name": "stderr",
     "output_type": "stream",
     "text": [
      "INFO:tensorflow:Assets written to: ./base.model/assets\n"
     ]
    },
    {
     "name": "stdout",
     "output_type": "stream",
     "text": [
      "76/76 [==============================] - 65s 866ms/step - loss: 0.5355 - accuracy: 0.1830 - val_loss: 0.5196 - val_accuracy: 0.1723 - lr: 0.0010\n",
      "Epoch 6/50\n",
      "76/76 [==============================] - ETA: 0s - loss: 0.5053 - accuracy: 0.1830\n",
      "Epoch 6: val_loss improved from 0.51958 to 0.48994, saving model to ./base.model\n"
     ]
    },
    {
     "name": "stderr",
     "output_type": "stream",
     "text": [
      "WARNING:absl:Function `_wrapped_model` contains input name(s) mobilenetv2_1.00_40_input with unsupported characters which will be renamed to mobilenetv2_1_00_40_input in the SavedModel.\n",
      "WARNING:absl:Found untraced functions such as _update_step_xla, _jit_compiled_convolution_op, _jit_compiled_convolution_op, _jit_compiled_convolution_op, _jit_compiled_convolution_op while saving (showing 5 of 53). These functions will not be directly callable after loading.\n"
     ]
    },
    {
     "name": "stdout",
     "output_type": "stream",
     "text": [
      "INFO:tensorflow:Assets written to: ./base.model/assets\n"
     ]
    },
    {
     "name": "stderr",
     "output_type": "stream",
     "text": [
      "INFO:tensorflow:Assets written to: ./base.model/assets\n"
     ]
    },
    {
     "name": "stdout",
     "output_type": "stream",
     "text": [
      "76/76 [==============================] - 63s 840ms/step - loss: 0.5053 - accuracy: 0.1830 - val_loss: 0.4899 - val_accuracy: 0.1723 - lr: 0.0010\n",
      "Epoch 7/50\n",
      "76/76 [==============================] - ETA: 0s - loss: 0.4764 - accuracy: 0.1830\n",
      "Epoch 7: val_loss improved from 0.48994 to 0.46179, saving model to ./base.model\n"
     ]
    },
    {
     "name": "stderr",
     "output_type": "stream",
     "text": [
      "WARNING:absl:Function `_wrapped_model` contains input name(s) mobilenetv2_1.00_40_input with unsupported characters which will be renamed to mobilenetv2_1_00_40_input in the SavedModel.\n",
      "WARNING:absl:Found untraced functions such as _update_step_xla, _jit_compiled_convolution_op, _jit_compiled_convolution_op, _jit_compiled_convolution_op, _jit_compiled_convolution_op while saving (showing 5 of 53). These functions will not be directly callable after loading.\n"
     ]
    },
    {
     "name": "stdout",
     "output_type": "stream",
     "text": [
      "INFO:tensorflow:Assets written to: ./base.model/assets\n"
     ]
    },
    {
     "name": "stderr",
     "output_type": "stream",
     "text": [
      "INFO:tensorflow:Assets written to: ./base.model/assets\n"
     ]
    },
    {
     "name": "stdout",
     "output_type": "stream",
     "text": [
      "76/76 [==============================] - 47s 625ms/step - loss: 0.4764 - accuracy: 0.1830 - val_loss: 0.4618 - val_accuracy: 0.1723 - lr: 0.0010\n",
      "Epoch 8/50\n",
      "76/76 [==============================] - ETA: 0s - loss: 0.4489 - accuracy: 0.1830\n",
      "Epoch 8: val_loss improved from 0.46179 to 0.43487, saving model to ./base.model\n"
     ]
    },
    {
     "name": "stderr",
     "output_type": "stream",
     "text": [
      "WARNING:absl:Function `_wrapped_model` contains input name(s) mobilenetv2_1.00_40_input with unsupported characters which will be renamed to mobilenetv2_1_00_40_input in the SavedModel.\n",
      "WARNING:absl:Found untraced functions such as _update_step_xla, _jit_compiled_convolution_op, _jit_compiled_convolution_op, _jit_compiled_convolution_op, _jit_compiled_convolution_op while saving (showing 5 of 53). These functions will not be directly callable after loading.\n"
     ]
    },
    {
     "name": "stdout",
     "output_type": "stream",
     "text": [
      "INFO:tensorflow:Assets written to: ./base.model/assets\n"
     ]
    },
    {
     "name": "stderr",
     "output_type": "stream",
     "text": [
      "INFO:tensorflow:Assets written to: ./base.model/assets\n"
     ]
    },
    {
     "name": "stdout",
     "output_type": "stream",
     "text": [
      "76/76 [==============================] - 39s 511ms/step - loss: 0.4489 - accuracy: 0.1830 - val_loss: 0.4349 - val_accuracy: 0.1723 - lr: 0.0010\n",
      "Epoch 9/50\n",
      "76/76 [==============================] - ETA: 0s - loss: 0.4226 - accuracy: 0.1830\n",
      "Epoch 9: val_loss improved from 0.43487 to 0.40921, saving model to ./base.model\n"
     ]
    },
    {
     "name": "stderr",
     "output_type": "stream",
     "text": [
      "WARNING:absl:Function `_wrapped_model` contains input name(s) mobilenetv2_1.00_40_input with unsupported characters which will be renamed to mobilenetv2_1_00_40_input in the SavedModel.\n",
      "WARNING:absl:Found untraced functions such as _update_step_xla, _jit_compiled_convolution_op, _jit_compiled_convolution_op, _jit_compiled_convolution_op, _jit_compiled_convolution_op while saving (showing 5 of 53). These functions will not be directly callable after loading.\n"
     ]
    },
    {
     "name": "stdout",
     "output_type": "stream",
     "text": [
      "INFO:tensorflow:Assets written to: ./base.model/assets\n"
     ]
    },
    {
     "name": "stderr",
     "output_type": "stream",
     "text": [
      "INFO:tensorflow:Assets written to: ./base.model/assets\n"
     ]
    },
    {
     "name": "stdout",
     "output_type": "stream",
     "text": [
      "76/76 [==============================] - 39s 513ms/step - loss: 0.4226 - accuracy: 0.1830 - val_loss: 0.4092 - val_accuracy: 0.1723 - lr: 0.0010\n",
      "Epoch 10/50\n",
      "76/76 [==============================] - ETA: 0s - loss: 0.3977 - accuracy: 0.1830\n",
      "Epoch 10: val_loss improved from 0.40921 to 0.38490, saving model to ./base.model\n"
     ]
    },
    {
     "name": "stderr",
     "output_type": "stream",
     "text": [
      "WARNING:absl:Function `_wrapped_model` contains input name(s) mobilenetv2_1.00_40_input with unsupported characters which will be renamed to mobilenetv2_1_00_40_input in the SavedModel.\n",
      "WARNING:absl:Found untraced functions such as _update_step_xla, _jit_compiled_convolution_op, _jit_compiled_convolution_op, _jit_compiled_convolution_op, _jit_compiled_convolution_op while saving (showing 5 of 53). These functions will not be directly callable after loading.\n"
     ]
    },
    {
     "name": "stdout",
     "output_type": "stream",
     "text": [
      "INFO:tensorflow:Assets written to: ./base.model/assets\n"
     ]
    },
    {
     "name": "stderr",
     "output_type": "stream",
     "text": [
      "INFO:tensorflow:Assets written to: ./base.model/assets\n"
     ]
    },
    {
     "name": "stdout",
     "output_type": "stream",
     "text": [
      "76/76 [==============================] - 38s 507ms/step - loss: 0.3977 - accuracy: 0.1830 - val_loss: 0.3849 - val_accuracy: 0.1723 - lr: 0.0010\n",
      "Epoch 11/50\n",
      "76/76 [==============================] - ETA: 0s - loss: 0.3741 - accuracy: 0.1830\n",
      "Epoch 11: val_loss improved from 0.38490 to 0.36183, saving model to ./base.model\n"
     ]
    },
    {
     "name": "stderr",
     "output_type": "stream",
     "text": [
      "WARNING:absl:Function `_wrapped_model` contains input name(s) mobilenetv2_1.00_40_input with unsupported characters which will be renamed to mobilenetv2_1_00_40_input in the SavedModel.\n",
      "WARNING:absl:Found untraced functions such as _update_step_xla, _jit_compiled_convolution_op, _jit_compiled_convolution_op, _jit_compiled_convolution_op, _jit_compiled_convolution_op while saving (showing 5 of 53). These functions will not be directly callable after loading.\n"
     ]
    },
    {
     "name": "stdout",
     "output_type": "stream",
     "text": [
      "INFO:tensorflow:Assets written to: ./base.model/assets\n"
     ]
    },
    {
     "name": "stderr",
     "output_type": "stream",
     "text": [
      "INFO:tensorflow:Assets written to: ./base.model/assets\n"
     ]
    },
    {
     "name": "stdout",
     "output_type": "stream",
     "text": [
      "76/76 [==============================] - 39s 511ms/step - loss: 0.3741 - accuracy: 0.1830 - val_loss: 0.3618 - val_accuracy: 0.1723 - lr: 0.0010\n",
      "Epoch 12/50\n",
      "76/76 [==============================] - ETA: 0s - loss: 0.3516 - accuracy: 0.1830\n",
      "Epoch 12: val_loss improved from 0.36183 to 0.33991, saving model to ./base.model\n"
     ]
    },
    {
     "name": "stderr",
     "output_type": "stream",
     "text": [
      "WARNING:absl:Function `_wrapped_model` contains input name(s) mobilenetv2_1.00_40_input with unsupported characters which will be renamed to mobilenetv2_1_00_40_input in the SavedModel.\n",
      "WARNING:absl:Found untraced functions such as _update_step_xla, _jit_compiled_convolution_op, _jit_compiled_convolution_op, _jit_compiled_convolution_op, _jit_compiled_convolution_op while saving (showing 5 of 53). These functions will not be directly callable after loading.\n"
     ]
    },
    {
     "name": "stdout",
     "output_type": "stream",
     "text": [
      "INFO:tensorflow:Assets written to: ./base.model/assets\n"
     ]
    },
    {
     "name": "stderr",
     "output_type": "stream",
     "text": [
      "INFO:tensorflow:Assets written to: ./base.model/assets\n"
     ]
    },
    {
     "name": "stdout",
     "output_type": "stream",
     "text": [
      "76/76 [==============================] - 41s 547ms/step - loss: 0.3516 - accuracy: 0.1830 - val_loss: 0.3399 - val_accuracy: 0.1723 - lr: 0.0010\n",
      "Epoch 13/50\n",
      "76/76 [==============================] - ETA: 0s - loss: 0.3303 - accuracy: 0.1830\n",
      "Epoch 13: val_loss improved from 0.33991 to 0.31921, saving model to ./base.model\n"
     ]
    },
    {
     "name": "stderr",
     "output_type": "stream",
     "text": [
      "WARNING:absl:Function `_wrapped_model` contains input name(s) mobilenetv2_1.00_40_input with unsupported characters which will be renamed to mobilenetv2_1_00_40_input in the SavedModel.\n",
      "WARNING:absl:Found untraced functions such as _update_step_xla, _jit_compiled_convolution_op, _jit_compiled_convolution_op, _jit_compiled_convolution_op, _jit_compiled_convolution_op while saving (showing 5 of 53). These functions will not be directly callable after loading.\n"
     ]
    },
    {
     "name": "stdout",
     "output_type": "stream",
     "text": [
      "INFO:tensorflow:Assets written to: ./base.model/assets\n"
     ]
    },
    {
     "name": "stderr",
     "output_type": "stream",
     "text": [
      "INFO:tensorflow:Assets written to: ./base.model/assets\n"
     ]
    },
    {
     "name": "stdout",
     "output_type": "stream",
     "text": [
      "76/76 [==============================] - 68s 902ms/step - loss: 0.3303 - accuracy: 0.1830 - val_loss: 0.3192 - val_accuracy: 0.1723 - lr: 0.0010\n",
      "Epoch 14/50\n",
      "76/76 [==============================] - ETA: 0s - loss: 0.3102 - accuracy: 0.1830\n",
      "Epoch 14: val_loss improved from 0.31921 to 0.29960, saving model to ./base.model\n"
     ]
    },
    {
     "name": "stderr",
     "output_type": "stream",
     "text": [
      "WARNING:absl:Function `_wrapped_model` contains input name(s) mobilenetv2_1.00_40_input with unsupported characters which will be renamed to mobilenetv2_1_00_40_input in the SavedModel.\n",
      "WARNING:absl:Found untraced functions such as _update_step_xla, _jit_compiled_convolution_op, _jit_compiled_convolution_op, _jit_compiled_convolution_op, _jit_compiled_convolution_op while saving (showing 5 of 53). These functions will not be directly callable after loading.\n"
     ]
    },
    {
     "name": "stdout",
     "output_type": "stream",
     "text": [
      "INFO:tensorflow:Assets written to: ./base.model/assets\n"
     ]
    },
    {
     "name": "stderr",
     "output_type": "stream",
     "text": [
      "INFO:tensorflow:Assets written to: ./base.model/assets\n"
     ]
    },
    {
     "name": "stdout",
     "output_type": "stream",
     "text": [
      "76/76 [==============================] - 49s 648ms/step - loss: 0.3102 - accuracy: 0.1830 - val_loss: 0.2996 - val_accuracy: 0.1723 - lr: 0.0010\n",
      "Epoch 15/50\n",
      "76/76 [==============================] - ETA: 0s - loss: 0.2912 - accuracy: 0.1830\n",
      "Epoch 15: val_loss improved from 0.29960 to 0.28111, saving model to ./base.model\n"
     ]
    },
    {
     "name": "stderr",
     "output_type": "stream",
     "text": [
      "WARNING:absl:Function `_wrapped_model` contains input name(s) mobilenetv2_1.00_40_input with unsupported characters which will be renamed to mobilenetv2_1_00_40_input in the SavedModel.\n",
      "WARNING:absl:Found untraced functions such as _update_step_xla, _jit_compiled_convolution_op, _jit_compiled_convolution_op, _jit_compiled_convolution_op, _jit_compiled_convolution_op while saving (showing 5 of 53). These functions will not be directly callable after loading.\n"
     ]
    },
    {
     "name": "stdout",
     "output_type": "stream",
     "text": [
      "INFO:tensorflow:Assets written to: ./base.model/assets\n"
     ]
    },
    {
     "name": "stderr",
     "output_type": "stream",
     "text": [
      "INFO:tensorflow:Assets written to: ./base.model/assets\n"
     ]
    },
    {
     "name": "stdout",
     "output_type": "stream",
     "text": [
      "76/76 [==============================] - 48s 638ms/step - loss: 0.2912 - accuracy: 0.1830 - val_loss: 0.2811 - val_accuracy: 0.1723 - lr: 0.0010\n",
      "Epoch 16/50\n",
      "76/76 [==============================] - ETA: 0s - loss: 0.2733 - accuracy: 0.1830\n",
      "Epoch 16: val_loss improved from 0.28111 to 0.26370, saving model to ./base.model\n"
     ]
    },
    {
     "name": "stderr",
     "output_type": "stream",
     "text": [
      "WARNING:absl:Function `_wrapped_model` contains input name(s) mobilenetv2_1.00_40_input with unsupported characters which will be renamed to mobilenetv2_1_00_40_input in the SavedModel.\n",
      "WARNING:absl:Found untraced functions such as _update_step_xla, _jit_compiled_convolution_op, _jit_compiled_convolution_op, _jit_compiled_convolution_op, _jit_compiled_convolution_op while saving (showing 5 of 53). These functions will not be directly callable after loading.\n"
     ]
    },
    {
     "name": "stdout",
     "output_type": "stream",
     "text": [
      "INFO:tensorflow:Assets written to: ./base.model/assets\n"
     ]
    },
    {
     "name": "stderr",
     "output_type": "stream",
     "text": [
      "INFO:tensorflow:Assets written to: ./base.model/assets\n"
     ]
    },
    {
     "name": "stdout",
     "output_type": "stream",
     "text": [
      "76/76 [==============================] - 50s 656ms/step - loss: 0.2733 - accuracy: 0.1830 - val_loss: 0.2637 - val_accuracy: 0.1723 - lr: 0.0010\n",
      "Epoch 17/50\n",
      "76/76 [==============================] - ETA: 0s - loss: 0.2564 - accuracy: 0.1830\n",
      "Epoch 17: val_loss improved from 0.26370 to 0.24721, saving model to ./base.model\n"
     ]
    },
    {
     "name": "stderr",
     "output_type": "stream",
     "text": [
      "WARNING:absl:Function `_wrapped_model` contains input name(s) mobilenetv2_1.00_40_input with unsupported characters which will be renamed to mobilenetv2_1_00_40_input in the SavedModel.\n",
      "WARNING:absl:Found untraced functions such as _update_step_xla, _jit_compiled_convolution_op, _jit_compiled_convolution_op, _jit_compiled_convolution_op, _jit_compiled_convolution_op while saving (showing 5 of 53). These functions will not be directly callable after loading.\n"
     ]
    },
    {
     "name": "stdout",
     "output_type": "stream",
     "text": [
      "INFO:tensorflow:Assets written to: ./base.model/assets\n"
     ]
    },
    {
     "name": "stderr",
     "output_type": "stream",
     "text": [
      "INFO:tensorflow:Assets written to: ./base.model/assets\n"
     ]
    },
    {
     "name": "stdout",
     "output_type": "stream",
     "text": [
      "76/76 [==============================] - 46s 616ms/step - loss: 0.2564 - accuracy: 0.1830 - val_loss: 0.2472 - val_accuracy: 0.1723 - lr: 0.0010\n",
      "Epoch 18/50\n",
      "76/76 [==============================] - ETA: 0s - loss: 0.2405 - accuracy: 0.1830\n",
      "Epoch 18: val_loss improved from 0.24721 to 0.23176, saving model to ./base.model\n"
     ]
    },
    {
     "name": "stderr",
     "output_type": "stream",
     "text": [
      "WARNING:absl:Function `_wrapped_model` contains input name(s) mobilenetv2_1.00_40_input with unsupported characters which will be renamed to mobilenetv2_1_00_40_input in the SavedModel.\n",
      "WARNING:absl:Found untraced functions such as _update_step_xla, _jit_compiled_convolution_op, _jit_compiled_convolution_op, _jit_compiled_convolution_op, _jit_compiled_convolution_op while saving (showing 5 of 53). These functions will not be directly callable after loading.\n"
     ]
    },
    {
     "name": "stdout",
     "output_type": "stream",
     "text": [
      "INFO:tensorflow:Assets written to: ./base.model/assets\n"
     ]
    },
    {
     "name": "stderr",
     "output_type": "stream",
     "text": [
      "INFO:tensorflow:Assets written to: ./base.model/assets\n"
     ]
    },
    {
     "name": "stdout",
     "output_type": "stream",
     "text": [
      "76/76 [==============================] - 50s 666ms/step - loss: 0.2405 - accuracy: 0.1830 - val_loss: 0.2318 - val_accuracy: 0.1723 - lr: 0.0010\n",
      "Epoch 19/50\n",
      "76/76 [==============================] - ETA: 0s - loss: 0.2254 - accuracy: 0.1830\n",
      "Epoch 19: val_loss improved from 0.23176 to 0.21717, saving model to ./base.model\n"
     ]
    },
    {
     "name": "stderr",
     "output_type": "stream",
     "text": [
      "WARNING:absl:Function `_wrapped_model` contains input name(s) mobilenetv2_1.00_40_input with unsupported characters which will be renamed to mobilenetv2_1_00_40_input in the SavedModel.\n",
      "WARNING:absl:Found untraced functions such as _update_step_xla, _jit_compiled_convolution_op, _jit_compiled_convolution_op, _jit_compiled_convolution_op, _jit_compiled_convolution_op while saving (showing 5 of 53). These functions will not be directly callable after loading.\n"
     ]
    },
    {
     "name": "stdout",
     "output_type": "stream",
     "text": [
      "INFO:tensorflow:Assets written to: ./base.model/assets\n"
     ]
    },
    {
     "name": "stderr",
     "output_type": "stream",
     "text": [
      "INFO:tensorflow:Assets written to: ./base.model/assets\n"
     ]
    },
    {
     "name": "stdout",
     "output_type": "stream",
     "text": [
      "76/76 [==============================] - 39s 509ms/step - loss: 0.2254 - accuracy: 0.1830 - val_loss: 0.2172 - val_accuracy: 0.1723 - lr: 0.0010\n",
      "Epoch 20/50\n",
      "76/76 [==============================] - ETA: 0s - loss: 0.2114 - accuracy: 0.1830\n",
      "Epoch 20: val_loss improved from 0.21717 to 0.20350, saving model to ./base.model\n"
     ]
    },
    {
     "name": "stderr",
     "output_type": "stream",
     "text": [
      "WARNING:absl:Function `_wrapped_model` contains input name(s) mobilenetv2_1.00_40_input with unsupported characters which will be renamed to mobilenetv2_1_00_40_input in the SavedModel.\n",
      "WARNING:absl:Found untraced functions such as _update_step_xla, _jit_compiled_convolution_op, _jit_compiled_convolution_op, _jit_compiled_convolution_op, _jit_compiled_convolution_op while saving (showing 5 of 53). These functions will not be directly callable after loading.\n"
     ]
    },
    {
     "name": "stdout",
     "output_type": "stream",
     "text": [
      "INFO:tensorflow:Assets written to: ./base.model/assets\n"
     ]
    },
    {
     "name": "stderr",
     "output_type": "stream",
     "text": [
      "INFO:tensorflow:Assets written to: ./base.model/assets\n"
     ]
    },
    {
     "name": "stdout",
     "output_type": "stream",
     "text": [
      "76/76 [==============================] - 37s 493ms/step - loss: 0.2114 - accuracy: 0.1830 - val_loss: 0.2035 - val_accuracy: 0.1723 - lr: 0.0010\n",
      "Epoch 21/50\n",
      "76/76 [==============================] - ETA: 0s - loss: 0.1982 - accuracy: 0.1830\n",
      "Epoch 21: val_loss improved from 0.20350 to 0.19067, saving model to ./base.model\n"
     ]
    },
    {
     "name": "stderr",
     "output_type": "stream",
     "text": [
      "WARNING:absl:Function `_wrapped_model` contains input name(s) mobilenetv2_1.00_40_input with unsupported characters which will be renamed to mobilenetv2_1_00_40_input in the SavedModel.\n",
      "WARNING:absl:Found untraced functions such as _update_step_xla, _jit_compiled_convolution_op, _jit_compiled_convolution_op, _jit_compiled_convolution_op, _jit_compiled_convolution_op while saving (showing 5 of 53). These functions will not be directly callable after loading.\n"
     ]
    },
    {
     "name": "stdout",
     "output_type": "stream",
     "text": [
      "INFO:tensorflow:Assets written to: ./base.model/assets\n"
     ]
    },
    {
     "name": "stderr",
     "output_type": "stream",
     "text": [
      "INFO:tensorflow:Assets written to: ./base.model/assets\n"
     ]
    },
    {
     "name": "stdout",
     "output_type": "stream",
     "text": [
      "76/76 [==============================] - 37s 496ms/step - loss: 0.1982 - accuracy: 0.1830 - val_loss: 0.1907 - val_accuracy: 0.1723 - lr: 0.0010\n",
      "Epoch 22/50\n",
      "76/76 [==============================] - ETA: 0s - loss: 0.1858 - accuracy: 0.1830\n",
      "Epoch 22: val_loss improved from 0.19067 to 0.17859, saving model to ./base.model\n"
     ]
    },
    {
     "name": "stderr",
     "output_type": "stream",
     "text": [
      "WARNING:absl:Function `_wrapped_model` contains input name(s) mobilenetv2_1.00_40_input with unsupported characters which will be renamed to mobilenetv2_1_00_40_input in the SavedModel.\n",
      "WARNING:absl:Found untraced functions such as _update_step_xla, _jit_compiled_convolution_op, _jit_compiled_convolution_op, _jit_compiled_convolution_op, _jit_compiled_convolution_op while saving (showing 5 of 53). These functions will not be directly callable after loading.\n"
     ]
    },
    {
     "name": "stdout",
     "output_type": "stream",
     "text": [
      "INFO:tensorflow:Assets written to: ./base.model/assets\n"
     ]
    },
    {
     "name": "stderr",
     "output_type": "stream",
     "text": [
      "INFO:tensorflow:Assets written to: ./base.model/assets\n"
     ]
    },
    {
     "name": "stdout",
     "output_type": "stream",
     "text": [
      "76/76 [==============================] - 46s 615ms/step - loss: 0.1858 - accuracy: 0.1830 - val_loss: 0.1786 - val_accuracy: 0.1723 - lr: 0.0010\n",
      "Epoch 23/50\n",
      "76/76 [==============================] - ETA: 0s - loss: 0.1742 - accuracy: 0.1830\n",
      "Epoch 23: val_loss improved from 0.17859 to 0.16732, saving model to ./base.model\n"
     ]
    },
    {
     "name": "stderr",
     "output_type": "stream",
     "text": [
      "WARNING:absl:Function `_wrapped_model` contains input name(s) mobilenetv2_1.00_40_input with unsupported characters which will be renamed to mobilenetv2_1_00_40_input in the SavedModel.\n",
      "WARNING:absl:Found untraced functions such as _update_step_xla, _jit_compiled_convolution_op, _jit_compiled_convolution_op, _jit_compiled_convolution_op, _jit_compiled_convolution_op while saving (showing 5 of 53). These functions will not be directly callable after loading.\n"
     ]
    },
    {
     "name": "stdout",
     "output_type": "stream",
     "text": [
      "INFO:tensorflow:Assets written to: ./base.model/assets\n"
     ]
    },
    {
     "name": "stderr",
     "output_type": "stream",
     "text": [
      "INFO:tensorflow:Assets written to: ./base.model/assets\n"
     ]
    },
    {
     "name": "stdout",
     "output_type": "stream",
     "text": [
      "76/76 [==============================] - 42s 559ms/step - loss: 0.1742 - accuracy: 0.1830 - val_loss: 0.1673 - val_accuracy: 0.1723 - lr: 0.0010\n",
      "Epoch 24/50\n",
      "76/76 [==============================] - ETA: 0s - loss: 0.1633 - accuracy: 0.1830\n",
      "Epoch 24: val_loss improved from 0.16732 to 0.15677, saving model to ./base.model\n"
     ]
    },
    {
     "name": "stderr",
     "output_type": "stream",
     "text": [
      "WARNING:absl:Function `_wrapped_model` contains input name(s) mobilenetv2_1.00_40_input with unsupported characters which will be renamed to mobilenetv2_1_00_40_input in the SavedModel.\n",
      "WARNING:absl:Found untraced functions such as _update_step_xla, _jit_compiled_convolution_op, _jit_compiled_convolution_op, _jit_compiled_convolution_op, _jit_compiled_convolution_op while saving (showing 5 of 53). These functions will not be directly callable after loading.\n"
     ]
    },
    {
     "name": "stdout",
     "output_type": "stream",
     "text": [
      "INFO:tensorflow:Assets written to: ./base.model/assets\n"
     ]
    },
    {
     "name": "stderr",
     "output_type": "stream",
     "text": [
      "INFO:tensorflow:Assets written to: ./base.model/assets\n"
     ]
    },
    {
     "name": "stdout",
     "output_type": "stream",
     "text": [
      "76/76 [==============================] - 40s 524ms/step - loss: 0.1633 - accuracy: 0.1830 - val_loss: 0.1568 - val_accuracy: 0.1723 - lr: 0.0010\n",
      "Epoch 25/50\n",
      "76/76 [==============================] - ETA: 0s - loss: 0.1531 - accuracy: 0.1830\n",
      "Epoch 25: val_loss improved from 0.15677 to 0.14688, saving model to ./base.model\n"
     ]
    },
    {
     "name": "stderr",
     "output_type": "stream",
     "text": [
      "WARNING:absl:Function `_wrapped_model` contains input name(s) mobilenetv2_1.00_40_input with unsupported characters which will be renamed to mobilenetv2_1_00_40_input in the SavedModel.\n",
      "WARNING:absl:Found untraced functions such as _update_step_xla, _jit_compiled_convolution_op, _jit_compiled_convolution_op, _jit_compiled_convolution_op, _jit_compiled_convolution_op while saving (showing 5 of 53). These functions will not be directly callable after loading.\n"
     ]
    },
    {
     "name": "stdout",
     "output_type": "stream",
     "text": [
      "INFO:tensorflow:Assets written to: ./base.model/assets\n"
     ]
    },
    {
     "name": "stderr",
     "output_type": "stream",
     "text": [
      "INFO:tensorflow:Assets written to: ./base.model/assets\n"
     ]
    },
    {
     "name": "stdout",
     "output_type": "stream",
     "text": [
      "76/76 [==============================] - 38s 510ms/step - loss: 0.1531 - accuracy: 0.1830 - val_loss: 0.1469 - val_accuracy: 0.1723 - lr: 0.0010\n",
      "Epoch 26/50\n",
      "76/76 [==============================] - ETA: 0s - loss: 0.1436 - accuracy: 0.1830\n",
      "Epoch 26: val_loss improved from 0.14688 to 0.13769, saving model to ./base.model\n"
     ]
    },
    {
     "name": "stderr",
     "output_type": "stream",
     "text": [
      "WARNING:absl:Function `_wrapped_model` contains input name(s) mobilenetv2_1.00_40_input with unsupported characters which will be renamed to mobilenetv2_1_00_40_input in the SavedModel.\n",
      "WARNING:absl:Found untraced functions such as _update_step_xla, _jit_compiled_convolution_op, _jit_compiled_convolution_op, _jit_compiled_convolution_op, _jit_compiled_convolution_op while saving (showing 5 of 53). These functions will not be directly callable after loading.\n"
     ]
    },
    {
     "name": "stdout",
     "output_type": "stream",
     "text": [
      "INFO:tensorflow:Assets written to: ./base.model/assets\n"
     ]
    },
    {
     "name": "stderr",
     "output_type": "stream",
     "text": [
      "INFO:tensorflow:Assets written to: ./base.model/assets\n"
     ]
    },
    {
     "name": "stdout",
     "output_type": "stream",
     "text": [
      "76/76 [==============================] - 43s 571ms/step - loss: 0.1436 - accuracy: 0.1830 - val_loss: 0.1377 - val_accuracy: 0.1723 - lr: 0.0010\n",
      "Epoch 27/50\n",
      "76/76 [==============================] - ETA: 0s - loss: 0.1348 - accuracy: 0.1830\n",
      "Epoch 27: val_loss improved from 0.13769 to 0.12908, saving model to ./base.model\n"
     ]
    },
    {
     "name": "stderr",
     "output_type": "stream",
     "text": [
      "WARNING:absl:Function `_wrapped_model` contains input name(s) mobilenetv2_1.00_40_input with unsupported characters which will be renamed to mobilenetv2_1_00_40_input in the SavedModel.\n",
      "WARNING:absl:Found untraced functions such as _update_step_xla, _jit_compiled_convolution_op, _jit_compiled_convolution_op, _jit_compiled_convolution_op, _jit_compiled_convolution_op while saving (showing 5 of 53). These functions will not be directly callable after loading.\n"
     ]
    },
    {
     "name": "stdout",
     "output_type": "stream",
     "text": [
      "INFO:tensorflow:Assets written to: ./base.model/assets\n"
     ]
    },
    {
     "name": "stderr",
     "output_type": "stream",
     "text": [
      "INFO:tensorflow:Assets written to: ./base.model/assets\n"
     ]
    },
    {
     "name": "stdout",
     "output_type": "stream",
     "text": [
      "76/76 [==============================] - 40s 529ms/step - loss: 0.1348 - accuracy: 0.1830 - val_loss: 0.1291 - val_accuracy: 0.1723 - lr: 0.0010\n",
      "Epoch 28/50\n",
      "76/76 [==============================] - ETA: 0s - loss: 0.1265 - accuracy: 0.1830\n",
      "Epoch 28: val_loss improved from 0.12908 to 0.12107, saving model to ./base.model\n"
     ]
    },
    {
     "name": "stderr",
     "output_type": "stream",
     "text": [
      "WARNING:absl:Function `_wrapped_model` contains input name(s) mobilenetv2_1.00_40_input with unsupported characters which will be renamed to mobilenetv2_1_00_40_input in the SavedModel.\n",
      "WARNING:absl:Found untraced functions such as _update_step_xla, _jit_compiled_convolution_op, _jit_compiled_convolution_op, _jit_compiled_convolution_op, _jit_compiled_convolution_op while saving (showing 5 of 53). These functions will not be directly callable after loading.\n"
     ]
    },
    {
     "name": "stdout",
     "output_type": "stream",
     "text": [
      "INFO:tensorflow:Assets written to: ./base.model/assets\n"
     ]
    },
    {
     "name": "stderr",
     "output_type": "stream",
     "text": [
      "INFO:tensorflow:Assets written to: ./base.model/assets\n"
     ]
    },
    {
     "name": "stdout",
     "output_type": "stream",
     "text": [
      "76/76 [==============================] - 41s 542ms/step - loss: 0.1265 - accuracy: 0.1830 - val_loss: 0.1211 - val_accuracy: 0.1723 - lr: 0.0010\n",
      "Epoch 29/50\n",
      "76/76 [==============================] - ETA: 0s - loss: 0.1188 - accuracy: 0.1830\n",
      "Epoch 29: val_loss improved from 0.12107 to 0.11351, saving model to ./base.model\n"
     ]
    },
    {
     "name": "stderr",
     "output_type": "stream",
     "text": [
      "WARNING:absl:Function `_wrapped_model` contains input name(s) mobilenetv2_1.00_40_input with unsupported characters which will be renamed to mobilenetv2_1_00_40_input in the SavedModel.\n",
      "WARNING:absl:Found untraced functions such as _update_step_xla, _jit_compiled_convolution_op, _jit_compiled_convolution_op, _jit_compiled_convolution_op, _jit_compiled_convolution_op while saving (showing 5 of 53). These functions will not be directly callable after loading.\n"
     ]
    },
    {
     "name": "stdout",
     "output_type": "stream",
     "text": [
      "INFO:tensorflow:Assets written to: ./base.model/assets\n"
     ]
    },
    {
     "name": "stderr",
     "output_type": "stream",
     "text": [
      "INFO:tensorflow:Assets written to: ./base.model/assets\n"
     ]
    },
    {
     "name": "stdout",
     "output_type": "stream",
     "text": [
      "76/76 [==============================] - 44s 587ms/step - loss: 0.1188 - accuracy: 0.1830 - val_loss: 0.1135 - val_accuracy: 0.1723 - lr: 0.0010\n",
      "Epoch 30/50\n",
      "76/76 [==============================] - ETA: 0s - loss: 0.1116 - accuracy: 0.1830\n",
      "Epoch 30: val_loss improved from 0.11351 to 0.10658, saving model to ./base.model\n"
     ]
    },
    {
     "name": "stderr",
     "output_type": "stream",
     "text": [
      "WARNING:absl:Function `_wrapped_model` contains input name(s) mobilenetv2_1.00_40_input with unsupported characters which will be renamed to mobilenetv2_1_00_40_input in the SavedModel.\n",
      "WARNING:absl:Found untraced functions such as _update_step_xla, _jit_compiled_convolution_op, _jit_compiled_convolution_op, _jit_compiled_convolution_op, _jit_compiled_convolution_op while saving (showing 5 of 53). These functions will not be directly callable after loading.\n"
     ]
    },
    {
     "name": "stdout",
     "output_type": "stream",
     "text": [
      "INFO:tensorflow:Assets written to: ./base.model/assets\n"
     ]
    },
    {
     "name": "stderr",
     "output_type": "stream",
     "text": [
      "INFO:tensorflow:Assets written to: ./base.model/assets\n"
     ]
    },
    {
     "name": "stdout",
     "output_type": "stream",
     "text": [
      "76/76 [==============================] - 47s 626ms/step - loss: 0.1116 - accuracy: 0.1830 - val_loss: 0.1066 - val_accuracy: 0.1723 - lr: 0.0010\n",
      "Epoch 31/50\n",
      "76/76 [==============================] - ETA: 0s - loss: 0.1048 - accuracy: 0.1830\n",
      "Epoch 31: val_loss improved from 0.10658 to 0.10002, saving model to ./base.model\n"
     ]
    },
    {
     "name": "stderr",
     "output_type": "stream",
     "text": [
      "WARNING:absl:Function `_wrapped_model` contains input name(s) mobilenetv2_1.00_40_input with unsupported characters which will be renamed to mobilenetv2_1_00_40_input in the SavedModel.\n",
      "WARNING:absl:Found untraced functions such as _update_step_xla, _jit_compiled_convolution_op, _jit_compiled_convolution_op, _jit_compiled_convolution_op, _jit_compiled_convolution_op while saving (showing 5 of 53). These functions will not be directly callable after loading.\n"
     ]
    },
    {
     "name": "stdout",
     "output_type": "stream",
     "text": [
      "INFO:tensorflow:Assets written to: ./base.model/assets\n"
     ]
    },
    {
     "name": "stderr",
     "output_type": "stream",
     "text": [
      "INFO:tensorflow:Assets written to: ./base.model/assets\n"
     ]
    },
    {
     "name": "stdout",
     "output_type": "stream",
     "text": [
      "76/76 [==============================] - 48s 633ms/step - loss: 0.1048 - accuracy: 0.1830 - val_loss: 0.1000 - val_accuracy: 0.1723 - lr: 0.0010\n",
      "Epoch 32/50\n",
      "76/76 [==============================] - ETA: 0s - loss: 0.0987 - accuracy: 0.1830\n",
      "Epoch 32: val_loss improved from 0.10002 to 0.09403, saving model to ./base.model\n"
     ]
    },
    {
     "name": "stderr",
     "output_type": "stream",
     "text": [
      "WARNING:absl:Function `_wrapped_model` contains input name(s) mobilenetv2_1.00_40_input with unsupported characters which will be renamed to mobilenetv2_1_00_40_input in the SavedModel.\n",
      "WARNING:absl:Found untraced functions such as _update_step_xla, _jit_compiled_convolution_op, _jit_compiled_convolution_op, _jit_compiled_convolution_op, _jit_compiled_convolution_op while saving (showing 5 of 53). These functions will not be directly callable after loading.\n"
     ]
    },
    {
     "name": "stdout",
     "output_type": "stream",
     "text": [
      "INFO:tensorflow:Assets written to: ./base.model/assets\n"
     ]
    },
    {
     "name": "stderr",
     "output_type": "stream",
     "text": [
      "INFO:tensorflow:Assets written to: ./base.model/assets\n"
     ]
    },
    {
     "name": "stdout",
     "output_type": "stream",
     "text": [
      "76/76 [==============================] - 48s 641ms/step - loss: 0.0987 - accuracy: 0.1830 - val_loss: 0.0940 - val_accuracy: 0.1723 - lr: 0.0010\n",
      "Epoch 33/50\n",
      "76/76 [==============================] - ETA: 0s - loss: 0.0929 - accuracy: 0.1830\n",
      "Epoch 33: val_loss improved from 0.09403 to 0.08846, saving model to ./base.model\n"
     ]
    },
    {
     "name": "stderr",
     "output_type": "stream",
     "text": [
      "WARNING:absl:Function `_wrapped_model` contains input name(s) mobilenetv2_1.00_40_input with unsupported characters which will be renamed to mobilenetv2_1_00_40_input in the SavedModel.\n",
      "WARNING:absl:Found untraced functions such as _update_step_xla, _jit_compiled_convolution_op, _jit_compiled_convolution_op, _jit_compiled_convolution_op, _jit_compiled_convolution_op while saving (showing 5 of 53). These functions will not be directly callable after loading.\n"
     ]
    },
    {
     "name": "stdout",
     "output_type": "stream",
     "text": [
      "INFO:tensorflow:Assets written to: ./base.model/assets\n"
     ]
    },
    {
     "name": "stderr",
     "output_type": "stream",
     "text": [
      "INFO:tensorflow:Assets written to: ./base.model/assets\n"
     ]
    },
    {
     "name": "stdout",
     "output_type": "stream",
     "text": [
      "76/76 [==============================] - 48s 637ms/step - loss: 0.0929 - accuracy: 0.1830 - val_loss: 0.0885 - val_accuracy: 0.1723 - lr: 0.0010\n",
      "Epoch 34/50\n",
      "76/76 [==============================] - ETA: 0s - loss: 0.0875 - accuracy: 0.1830\n",
      "Epoch 34: val_loss improved from 0.08846 to 0.08320, saving model to ./base.model\n"
     ]
    },
    {
     "name": "stderr",
     "output_type": "stream",
     "text": [
      "WARNING:absl:Function `_wrapped_model` contains input name(s) mobilenetv2_1.00_40_input with unsupported characters which will be renamed to mobilenetv2_1_00_40_input in the SavedModel.\n",
      "WARNING:absl:Found untraced functions such as _update_step_xla, _jit_compiled_convolution_op, _jit_compiled_convolution_op, _jit_compiled_convolution_op, _jit_compiled_convolution_op while saving (showing 5 of 53). These functions will not be directly callable after loading.\n"
     ]
    },
    {
     "name": "stdout",
     "output_type": "stream",
     "text": [
      "INFO:tensorflow:Assets written to: ./base.model/assets\n"
     ]
    },
    {
     "name": "stderr",
     "output_type": "stream",
     "text": [
      "INFO:tensorflow:Assets written to: ./base.model/assets\n"
     ]
    },
    {
     "name": "stdout",
     "output_type": "stream",
     "text": [
      "76/76 [==============================] - 48s 642ms/step - loss: 0.0875 - accuracy: 0.1830 - val_loss: 0.0832 - val_accuracy: 0.1723 - lr: 0.0010\n",
      "Epoch 35/50\n",
      "76/76 [==============================] - ETA: 0s - loss: 0.0826 - accuracy: 0.1830\n",
      "Epoch 35: val_loss improved from 0.08320 to 0.07841, saving model to ./base.model\n"
     ]
    },
    {
     "name": "stderr",
     "output_type": "stream",
     "text": [
      "WARNING:absl:Function `_wrapped_model` contains input name(s) mobilenetv2_1.00_40_input with unsupported characters which will be renamed to mobilenetv2_1_00_40_input in the SavedModel.\n",
      "WARNING:absl:Found untraced functions such as _update_step_xla, _jit_compiled_convolution_op, _jit_compiled_convolution_op, _jit_compiled_convolution_op, _jit_compiled_convolution_op while saving (showing 5 of 53). These functions will not be directly callable after loading.\n"
     ]
    },
    {
     "name": "stdout",
     "output_type": "stream",
     "text": [
      "INFO:tensorflow:Assets written to: ./base.model/assets\n"
     ]
    },
    {
     "name": "stderr",
     "output_type": "stream",
     "text": [
      "INFO:tensorflow:Assets written to: ./base.model/assets\n"
     ]
    },
    {
     "name": "stdout",
     "output_type": "stream",
     "text": [
      "76/76 [==============================] - 46s 608ms/step - loss: 0.0826 - accuracy: 0.1830 - val_loss: 0.0784 - val_accuracy: 0.1723 - lr: 0.0010\n",
      "Epoch 36/50\n",
      "76/76 [==============================] - ETA: 0s - loss: 0.0780 - accuracy: 0.1830\n",
      "Epoch 36: val_loss improved from 0.07841 to 0.07391, saving model to ./base.model\n"
     ]
    },
    {
     "name": "stderr",
     "output_type": "stream",
     "text": [
      "WARNING:absl:Function `_wrapped_model` contains input name(s) mobilenetv2_1.00_40_input with unsupported characters which will be renamed to mobilenetv2_1_00_40_input in the SavedModel.\n",
      "WARNING:absl:Found untraced functions such as _update_step_xla, _jit_compiled_convolution_op, _jit_compiled_convolution_op, _jit_compiled_convolution_op, _jit_compiled_convolution_op while saving (showing 5 of 53). These functions will not be directly callable after loading.\n"
     ]
    },
    {
     "name": "stdout",
     "output_type": "stream",
     "text": [
      "INFO:tensorflow:Assets written to: ./base.model/assets\n"
     ]
    },
    {
     "name": "stderr",
     "output_type": "stream",
     "text": [
      "INFO:tensorflow:Assets written to: ./base.model/assets\n"
     ]
    },
    {
     "name": "stdout",
     "output_type": "stream",
     "text": [
      "76/76 [==============================] - 41s 540ms/step - loss: 0.0780 - accuracy: 0.1830 - val_loss: 0.0739 - val_accuracy: 0.1723 - lr: 0.0010\n",
      "Epoch 37/50\n",
      "76/76 [==============================] - ETA: 0s - loss: 0.0737 - accuracy: 0.1830\n",
      "Epoch 37: val_loss improved from 0.07391 to 0.06975, saving model to ./base.model\n"
     ]
    },
    {
     "name": "stderr",
     "output_type": "stream",
     "text": [
      "WARNING:absl:Function `_wrapped_model` contains input name(s) mobilenetv2_1.00_40_input with unsupported characters which will be renamed to mobilenetv2_1_00_40_input in the SavedModel.\n",
      "WARNING:absl:Found untraced functions such as _update_step_xla, _jit_compiled_convolution_op, _jit_compiled_convolution_op, _jit_compiled_convolution_op, _jit_compiled_convolution_op while saving (showing 5 of 53). These functions will not be directly callable after loading.\n"
     ]
    },
    {
     "name": "stdout",
     "output_type": "stream",
     "text": [
      "INFO:tensorflow:Assets written to: ./base.model/assets\n"
     ]
    },
    {
     "name": "stderr",
     "output_type": "stream",
     "text": [
      "INFO:tensorflow:Assets written to: ./base.model/assets\n"
     ]
    },
    {
     "name": "stdout",
     "output_type": "stream",
     "text": [
      "76/76 [==============================] - 39s 510ms/step - loss: 0.0737 - accuracy: 0.1830 - val_loss: 0.0698 - val_accuracy: 0.1723 - lr: 0.0010\n",
      "Epoch 38/50\n",
      "76/76 [==============================] - ETA: 0s - loss: 0.0697 - accuracy: 0.1830\n",
      "Epoch 38: val_loss improved from 0.06975 to 0.06591, saving model to ./base.model\n"
     ]
    },
    {
     "name": "stderr",
     "output_type": "stream",
     "text": [
      "WARNING:absl:Function `_wrapped_model` contains input name(s) mobilenetv2_1.00_40_input with unsupported characters which will be renamed to mobilenetv2_1_00_40_input in the SavedModel.\n",
      "WARNING:absl:Found untraced functions such as _update_step_xla, _jit_compiled_convolution_op, _jit_compiled_convolution_op, _jit_compiled_convolution_op, _jit_compiled_convolution_op while saving (showing 5 of 53). These functions will not be directly callable after loading.\n"
     ]
    },
    {
     "name": "stdout",
     "output_type": "stream",
     "text": [
      "INFO:tensorflow:Assets written to: ./base.model/assets\n"
     ]
    },
    {
     "name": "stderr",
     "output_type": "stream",
     "text": [
      "INFO:tensorflow:Assets written to: ./base.model/assets\n"
     ]
    },
    {
     "name": "stdout",
     "output_type": "stream",
     "text": [
      "76/76 [==============================] - 40s 526ms/step - loss: 0.0697 - accuracy: 0.1830 - val_loss: 0.0659 - val_accuracy: 0.1723 - lr: 0.0010\n",
      "Epoch 39/50\n",
      "76/76 [==============================] - ETA: 0s - loss: 0.0661 - accuracy: 0.1830\n",
      "Epoch 39: val_loss improved from 0.06591 to 0.06240, saving model to ./base.model\n"
     ]
    },
    {
     "name": "stderr",
     "output_type": "stream",
     "text": [
      "WARNING:absl:Function `_wrapped_model` contains input name(s) mobilenetv2_1.00_40_input with unsupported characters which will be renamed to mobilenetv2_1_00_40_input in the SavedModel.\n",
      "WARNING:absl:Found untraced functions such as _update_step_xla, _jit_compiled_convolution_op, _jit_compiled_convolution_op, _jit_compiled_convolution_op, _jit_compiled_convolution_op while saving (showing 5 of 53). These functions will not be directly callable after loading.\n"
     ]
    },
    {
     "name": "stdout",
     "output_type": "stream",
     "text": [
      "INFO:tensorflow:Assets written to: ./base.model/assets\n"
     ]
    },
    {
     "name": "stderr",
     "output_type": "stream",
     "text": [
      "INFO:tensorflow:Assets written to: ./base.model/assets\n"
     ]
    },
    {
     "name": "stdout",
     "output_type": "stream",
     "text": [
      "76/76 [==============================] - 39s 512ms/step - loss: 0.0661 - accuracy: 0.1830 - val_loss: 0.0624 - val_accuracy: 0.1723 - lr: 0.0010\n",
      "Epoch 40/50\n",
      "76/76 [==============================] - ETA: 0s - loss: 0.0627 - accuracy: 0.1830\n",
      "Epoch 40: val_loss improved from 0.06240 to 0.05910, saving model to ./base.model\n"
     ]
    },
    {
     "name": "stderr",
     "output_type": "stream",
     "text": [
      "WARNING:absl:Function `_wrapped_model` contains input name(s) mobilenetv2_1.00_40_input with unsupported characters which will be renamed to mobilenetv2_1_00_40_input in the SavedModel.\n",
      "WARNING:absl:Found untraced functions such as _update_step_xla, _jit_compiled_convolution_op, _jit_compiled_convolution_op, _jit_compiled_convolution_op, _jit_compiled_convolution_op while saving (showing 5 of 53). These functions will not be directly callable after loading.\n"
     ]
    },
    {
     "name": "stdout",
     "output_type": "stream",
     "text": [
      "INFO:tensorflow:Assets written to: ./base.model/assets\n"
     ]
    },
    {
     "name": "stderr",
     "output_type": "stream",
     "text": [
      "INFO:tensorflow:Assets written to: ./base.model/assets\n"
     ]
    },
    {
     "name": "stdout",
     "output_type": "stream",
     "text": [
      "76/76 [==============================] - 39s 515ms/step - loss: 0.0627 - accuracy: 0.1830 - val_loss: 0.0591 - val_accuracy: 0.1723 - lr: 0.0010\n",
      "Epoch 41/50\n",
      "76/76 [==============================] - ETA: 0s - loss: 0.0596 - accuracy: 0.1830\n",
      "Epoch 41: val_loss improved from 0.05910 to 0.05607, saving model to ./base.model\n"
     ]
    },
    {
     "name": "stderr",
     "output_type": "stream",
     "text": [
      "WARNING:absl:Function `_wrapped_model` contains input name(s) mobilenetv2_1.00_40_input with unsupported characters which will be renamed to mobilenetv2_1_00_40_input in the SavedModel.\n",
      "WARNING:absl:Found untraced functions such as _update_step_xla, _jit_compiled_convolution_op, _jit_compiled_convolution_op, _jit_compiled_convolution_op, _jit_compiled_convolution_op while saving (showing 5 of 53). These functions will not be directly callable after loading.\n"
     ]
    },
    {
     "name": "stdout",
     "output_type": "stream",
     "text": [
      "INFO:tensorflow:Assets written to: ./base.model/assets\n"
     ]
    },
    {
     "name": "stderr",
     "output_type": "stream",
     "text": [
      "INFO:tensorflow:Assets written to: ./base.model/assets\n"
     ]
    },
    {
     "name": "stdout",
     "output_type": "stream",
     "text": [
      "76/76 [==============================] - 39s 515ms/step - loss: 0.0596 - accuracy: 0.1830 - val_loss: 0.0561 - val_accuracy: 0.1723 - lr: 0.0010\n",
      "Epoch 42/50\n",
      "76/76 [==============================] - ETA: 0s - loss: 0.0568 - accuracy: 0.1830\n",
      "Epoch 42: val_loss improved from 0.05607 to 0.05321, saving model to ./base.model\n"
     ]
    },
    {
     "name": "stderr",
     "output_type": "stream",
     "text": [
      "WARNING:absl:Function `_wrapped_model` contains input name(s) mobilenetv2_1.00_40_input with unsupported characters which will be renamed to mobilenetv2_1_00_40_input in the SavedModel.\n",
      "WARNING:absl:Found untraced functions such as _update_step_xla, _jit_compiled_convolution_op, _jit_compiled_convolution_op, _jit_compiled_convolution_op, _jit_compiled_convolution_op while saving (showing 5 of 53). These functions will not be directly callable after loading.\n"
     ]
    },
    {
     "name": "stdout",
     "output_type": "stream",
     "text": [
      "INFO:tensorflow:Assets written to: ./base.model/assets\n"
     ]
    },
    {
     "name": "stderr",
     "output_type": "stream",
     "text": [
      "INFO:tensorflow:Assets written to: ./base.model/assets\n"
     ]
    },
    {
     "name": "stdout",
     "output_type": "stream",
     "text": [
      "76/76 [==============================] - 39s 513ms/step - loss: 0.0568 - accuracy: 0.1830 - val_loss: 0.0532 - val_accuracy: 0.1723 - lr: 0.0010\n",
      "Epoch 43/50\n",
      "76/76 [==============================] - ETA: 0s - loss: 0.0541 - accuracy: 0.1830\n",
      "Epoch 43: val_loss improved from 0.05321 to 0.05069, saving model to ./base.model\n"
     ]
    },
    {
     "name": "stderr",
     "output_type": "stream",
     "text": [
      "WARNING:absl:Function `_wrapped_model` contains input name(s) mobilenetv2_1.00_40_input with unsupported characters which will be renamed to mobilenetv2_1_00_40_input in the SavedModel.\n",
      "WARNING:absl:Found untraced functions such as _update_step_xla, _jit_compiled_convolution_op, _jit_compiled_convolution_op, _jit_compiled_convolution_op, _jit_compiled_convolution_op while saving (showing 5 of 53). These functions will not be directly callable after loading.\n"
     ]
    },
    {
     "name": "stdout",
     "output_type": "stream",
     "text": [
      "INFO:tensorflow:Assets written to: ./base.model/assets\n"
     ]
    },
    {
     "name": "stderr",
     "output_type": "stream",
     "text": [
      "INFO:tensorflow:Assets written to: ./base.model/assets\n"
     ]
    },
    {
     "name": "stdout",
     "output_type": "stream",
     "text": [
      "76/76 [==============================] - 38s 509ms/step - loss: 0.0541 - accuracy: 0.1830 - val_loss: 0.0507 - val_accuracy: 0.1723 - lr: 0.0010\n",
      "Epoch 44/50\n",
      "76/76 [==============================] - ETA: 0s - loss: 0.0517 - accuracy: 0.1830\n",
      "Epoch 44: val_loss improved from 0.05069 to 0.04834, saving model to ./base.model\n"
     ]
    },
    {
     "name": "stderr",
     "output_type": "stream",
     "text": [
      "WARNING:absl:Function `_wrapped_model` contains input name(s) mobilenetv2_1.00_40_input with unsupported characters which will be renamed to mobilenetv2_1_00_40_input in the SavedModel.\n",
      "WARNING:absl:Found untraced functions such as _update_step_xla, _jit_compiled_convolution_op, _jit_compiled_convolution_op, _jit_compiled_convolution_op, _jit_compiled_convolution_op while saving (showing 5 of 53). These functions will not be directly callable after loading.\n"
     ]
    },
    {
     "name": "stdout",
     "output_type": "stream",
     "text": [
      "INFO:tensorflow:Assets written to: ./base.model/assets\n"
     ]
    },
    {
     "name": "stderr",
     "output_type": "stream",
     "text": [
      "INFO:tensorflow:Assets written to: ./base.model/assets\n"
     ]
    },
    {
     "name": "stdout",
     "output_type": "stream",
     "text": [
      "76/76 [==============================] - 39s 514ms/step - loss: 0.0517 - accuracy: 0.1830 - val_loss: 0.0483 - val_accuracy: 0.1723 - lr: 0.0010\n",
      "Epoch 45/50\n",
      "76/76 [==============================] - ETA: 0s - loss: 0.0495 - accuracy: 0.1830\n",
      "Epoch 45: val_loss improved from 0.04834 to 0.04614, saving model to ./base.model\n"
     ]
    },
    {
     "name": "stderr",
     "output_type": "stream",
     "text": [
      "WARNING:absl:Function `_wrapped_model` contains input name(s) mobilenetv2_1.00_40_input with unsupported characters which will be renamed to mobilenetv2_1_00_40_input in the SavedModel.\n",
      "WARNING:absl:Found untraced functions such as _update_step_xla, _jit_compiled_convolution_op, _jit_compiled_convolution_op, _jit_compiled_convolution_op, _jit_compiled_convolution_op while saving (showing 5 of 53). These functions will not be directly callable after loading.\n"
     ]
    },
    {
     "name": "stdout",
     "output_type": "stream",
     "text": [
      "INFO:tensorflow:Assets written to: ./base.model/assets\n"
     ]
    },
    {
     "name": "stderr",
     "output_type": "stream",
     "text": [
      "INFO:tensorflow:Assets written to: ./base.model/assets\n"
     ]
    },
    {
     "name": "stdout",
     "output_type": "stream",
     "text": [
      "76/76 [==============================] - 39s 516ms/step - loss: 0.0495 - accuracy: 0.1830 - val_loss: 0.0461 - val_accuracy: 0.1723 - lr: 0.0010\n",
      "Epoch 46/50\n",
      "76/76 [==============================] - ETA: 0s - loss: 0.0474 - accuracy: 0.1830\n",
      "Epoch 46: val_loss improved from 0.04614 to 0.04418, saving model to ./base.model\n"
     ]
    },
    {
     "name": "stderr",
     "output_type": "stream",
     "text": [
      "WARNING:absl:Function `_wrapped_model` contains input name(s) mobilenetv2_1.00_40_input with unsupported characters which will be renamed to mobilenetv2_1_00_40_input in the SavedModel.\n",
      "WARNING:absl:Found untraced functions such as _update_step_xla, _jit_compiled_convolution_op, _jit_compiled_convolution_op, _jit_compiled_convolution_op, _jit_compiled_convolution_op while saving (showing 5 of 53). These functions will not be directly callable after loading.\n"
     ]
    },
    {
     "name": "stdout",
     "output_type": "stream",
     "text": [
      "INFO:tensorflow:Assets written to: ./base.model/assets\n"
     ]
    },
    {
     "name": "stderr",
     "output_type": "stream",
     "text": [
      "INFO:tensorflow:Assets written to: ./base.model/assets\n"
     ]
    },
    {
     "name": "stdout",
     "output_type": "stream",
     "text": [
      "76/76 [==============================] - 40s 529ms/step - loss: 0.0474 - accuracy: 0.1830 - val_loss: 0.0442 - val_accuracy: 0.1723 - lr: 0.0010\n",
      "Epoch 47/50\n",
      "76/76 [==============================] - ETA: 0s - loss: 0.0456 - accuracy: 0.1830\n",
      "Epoch 47: val_loss improved from 0.04418 to 0.04241, saving model to ./base.model\n"
     ]
    },
    {
     "name": "stderr",
     "output_type": "stream",
     "text": [
      "WARNING:absl:Function `_wrapped_model` contains input name(s) mobilenetv2_1.00_40_input with unsupported characters which will be renamed to mobilenetv2_1_00_40_input in the SavedModel.\n",
      "WARNING:absl:Found untraced functions such as _update_step_xla, _jit_compiled_convolution_op, _jit_compiled_convolution_op, _jit_compiled_convolution_op, _jit_compiled_convolution_op while saving (showing 5 of 53). These functions will not be directly callable after loading.\n"
     ]
    },
    {
     "name": "stdout",
     "output_type": "stream",
     "text": [
      "INFO:tensorflow:Assets written to: ./base.model/assets\n"
     ]
    },
    {
     "name": "stderr",
     "output_type": "stream",
     "text": [
      "INFO:tensorflow:Assets written to: ./base.model/assets\n"
     ]
    },
    {
     "name": "stdout",
     "output_type": "stream",
     "text": [
      "76/76 [==============================] - 39s 515ms/step - loss: 0.0456 - accuracy: 0.1830 - val_loss: 0.0424 - val_accuracy: 0.1723 - lr: 0.0010\n",
      "Epoch 48/50\n",
      "76/76 [==============================] - ETA: 0s - loss: 0.0439 - accuracy: 0.1830\n",
      "Epoch 48: val_loss improved from 0.04241 to 0.04078, saving model to ./base.model\n"
     ]
    },
    {
     "name": "stderr",
     "output_type": "stream",
     "text": [
      "WARNING:absl:Function `_wrapped_model` contains input name(s) mobilenetv2_1.00_40_input with unsupported characters which will be renamed to mobilenetv2_1_00_40_input in the SavedModel.\n",
      "WARNING:absl:Found untraced functions such as _update_step_xla, _jit_compiled_convolution_op, _jit_compiled_convolution_op, _jit_compiled_convolution_op, _jit_compiled_convolution_op while saving (showing 5 of 53). These functions will not be directly callable after loading.\n"
     ]
    },
    {
     "name": "stdout",
     "output_type": "stream",
     "text": [
      "INFO:tensorflow:Assets written to: ./base.model/assets\n"
     ]
    },
    {
     "name": "stderr",
     "output_type": "stream",
     "text": [
      "INFO:tensorflow:Assets written to: ./base.model/assets\n"
     ]
    },
    {
     "name": "stdout",
     "output_type": "stream",
     "text": [
      "76/76 [==============================] - 39s 517ms/step - loss: 0.0439 - accuracy: 0.1830 - val_loss: 0.0408 - val_accuracy: 0.1723 - lr: 0.0010\n",
      "Epoch 49/50\n",
      "76/76 [==============================] - ETA: 0s - loss: 0.0424 - accuracy: 0.1830\n",
      "Epoch 49: val_loss improved from 0.04078 to 0.03926, saving model to ./base.model\n"
     ]
    },
    {
     "name": "stderr",
     "output_type": "stream",
     "text": [
      "WARNING:absl:Function `_wrapped_model` contains input name(s) mobilenetv2_1.00_40_input with unsupported characters which will be renamed to mobilenetv2_1_00_40_input in the SavedModel.\n",
      "WARNING:absl:Found untraced functions such as _update_step_xla, _jit_compiled_convolution_op, _jit_compiled_convolution_op, _jit_compiled_convolution_op, _jit_compiled_convolution_op while saving (showing 5 of 53). These functions will not be directly callable after loading.\n"
     ]
    },
    {
     "name": "stdout",
     "output_type": "stream",
     "text": [
      "INFO:tensorflow:Assets written to: ./base.model/assets\n"
     ]
    },
    {
     "name": "stderr",
     "output_type": "stream",
     "text": [
      "INFO:tensorflow:Assets written to: ./base.model/assets\n"
     ]
    },
    {
     "name": "stdout",
     "output_type": "stream",
     "text": [
      "76/76 [==============================] - 40s 525ms/step - loss: 0.0424 - accuracy: 0.1830 - val_loss: 0.0393 - val_accuracy: 0.1723 - lr: 0.0010\n",
      "Epoch 50/50\n",
      "76/76 [==============================] - ETA: 0s - loss: 0.0410 - accuracy: 0.1830\n",
      "Epoch 50: val_loss improved from 0.03926 to 0.03792, saving model to ./base.model\n"
     ]
    },
    {
     "name": "stderr",
     "output_type": "stream",
     "text": [
      "WARNING:absl:Function `_wrapped_model` contains input name(s) mobilenetv2_1.00_40_input with unsupported characters which will be renamed to mobilenetv2_1_00_40_input in the SavedModel.\n",
      "WARNING:absl:Found untraced functions such as _update_step_xla, _jit_compiled_convolution_op, _jit_compiled_convolution_op, _jit_compiled_convolution_op, _jit_compiled_convolution_op while saving (showing 5 of 53). These functions will not be directly callable after loading.\n"
     ]
    },
    {
     "name": "stdout",
     "output_type": "stream",
     "text": [
      "INFO:tensorflow:Assets written to: ./base.model/assets\n"
     ]
    },
    {
     "name": "stderr",
     "output_type": "stream",
     "text": [
      "INFO:tensorflow:Assets written to: ./base.model/assets\n"
     ]
    },
    {
     "name": "stdout",
     "output_type": "stream",
     "text": [
      "76/76 [==============================] - 42s 557ms/step - loss: 0.0410 - accuracy: 0.1830 - val_loss: 0.0379 - val_accuracy: 0.1723 - lr: 0.0010\n"
     ]
    }
   ],
   "source": [
    "opt = SGD(lr=1e-4,momentum=0.99)\n",
    "opt1 = Adam(lr=1e-3)\n",
    "\n",
    "model.compile(\n",
    "    loss='binary_crossentropy',\n",
    "    optimizer='rmsprop',\n",
    "    metrics=['accuracy']\n",
    ")\n",
    "    \n",
    "history = model.fit(\n",
    "    x_train,\n",
    "    y_train,\n",
    "    validation_data=(x_val,y_val),\n",
    "    epochs = 50, \n",
    "    verbose = 1,\n",
    "    callbacks=callbacks,\n",
    "    batch_size = 256\n",
    ")"
   ]
  },
  {
   "cell_type": "code",
   "execution_count": 10,
   "metadata": {},
   "outputs": [
    {
     "ename": "KeyError",
     "evalue": "'acc'",
     "output_type": "error",
     "traceback": [
      "\u001b[0;31m---------------------------------------------------------------------------\u001b[0m",
      "\u001b[0;31mKeyError\u001b[0m                                  Traceback (most recent call last)",
      "Cell \u001b[0;32mIn[10], line 1\u001b[0m\n\u001b[0;32m----> 1\u001b[0m show_final_history(history)\n\u001b[1;32m      2\u001b[0m model\u001b[39m.\u001b[39mload_weights(best_model_weights)\n\u001b[1;32m      4\u001b[0m model_json \u001b[39m=\u001b[39m model\u001b[39m.\u001b[39mto_json()\n",
      "Cell \u001b[0;32mIn[2], line 7\u001b[0m, in \u001b[0;36mshow_final_history\u001b[0;34m(history)\u001b[0m\n\u001b[1;32m      5\u001b[0m ax[\u001b[39m0\u001b[39m]\u001b[39m.\u001b[39mplot(history\u001b[39m.\u001b[39mepoch, history\u001b[39m.\u001b[39mhistory[\u001b[39m\"\u001b[39m\u001b[39mval_loss\u001b[39m\u001b[39m\"\u001b[39m], label\u001b[39m=\u001b[39m\u001b[39m\"\u001b[39m\u001b[39mValidation loss\u001b[39m\u001b[39m\"\u001b[39m)\n\u001b[1;32m      6\u001b[0m ax[\u001b[39m1\u001b[39m]\u001b[39m.\u001b[39mset_title(\u001b[39m'\u001b[39m\u001b[39macc\u001b[39m\u001b[39m'\u001b[39m)\n\u001b[0;32m----> 7\u001b[0m ax[\u001b[39m1\u001b[39m]\u001b[39m.\u001b[39mplot(history\u001b[39m.\u001b[39mepoch, history\u001b[39m.\u001b[39;49mhistory[\u001b[39m\"\u001b[39;49m\u001b[39macc\u001b[39;49m\u001b[39m\"\u001b[39;49m], label\u001b[39m=\u001b[39m\u001b[39m\"\u001b[39m\u001b[39mTrain acc\u001b[39m\u001b[39m\"\u001b[39m)\n\u001b[1;32m      8\u001b[0m ax[\u001b[39m1\u001b[39m]\u001b[39m.\u001b[39mplot(history\u001b[39m.\u001b[39mepoch, history\u001b[39m.\u001b[39mhistory[\u001b[39m\"\u001b[39m\u001b[39mval_acc\u001b[39m\u001b[39m\"\u001b[39m], label\u001b[39m=\u001b[39m\u001b[39m\"\u001b[39m\u001b[39mValidation acc\u001b[39m\u001b[39m\"\u001b[39m)\n\u001b[1;32m      9\u001b[0m ax[\u001b[39m0\u001b[39m]\u001b[39m.\u001b[39mlegend()\n",
      "\u001b[0;31mKeyError\u001b[0m: 'acc'"
     ]
    },
    {
     "data": {
      "image/png": "[encoded data removed]",
      "text/plain": [
       "<Figure size 1500x500 with 2 Axes>"
      ]
     },
     "metadata": {},
     "output_type": "display_data"
    }
   ],
   "source": [
    "show_final_history(history)\n",
    "model.load_weights(best_model_weights)\n",
    "\n",
    "model_json = model.to_json()\n",
    "with open(\"model.json\",\"w\") as json_file:\n",
    "    json_file.write(model_json)\n",
    "    \n",
    "model.save(\"model.h5\")\n",
    "print(\"Weights Saved\")\n",
    "print(\"JSON Saved\")"
   ]
  },
  {
   "cell_type": "code",
   "execution_count": 11,
   "metadata": {},
   "outputs": [
    {
     "name": "stdout",
     "output_type": "stream",
     "text": [
      "Weights Saved\n",
      "JSON Saved\n"
     ]
    }
   ],
   "source": [
    "model.save(\"model.h5\")\n",
    "print(\"Weights Saved\")\n",
    "print(\"JSON Saved\")"
   ]
  },
  {
   "cell_type": "code",
   "execution_count": null,
   "metadata": {},
   "outputs": [],
   "source": []
  }
 ],
 "metadata": {
  "kernelspec": {
   "display_name": "fibered",
   "language": "python",
   "name": "python3"
  },
  "language_info": {
   "codemirror_mode": {
    "name": "ipython",
    "version": 3
   },
   "file_extension": ".py",
   "mimetype": "text/x-python",
   "name": "python",
   "nbconvert_exporter": "python",
   "pygments_lexer": "ipython3",
   "version": "3.9.15"
  },
  "orig_nbformat": 4
 },
 "nbformat": 4,
 "nbformat_minor": 2
}
