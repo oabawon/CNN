{
 "cells": [
  {
   "cell_type": "code",
   "execution_count": 1,
   "metadata": {},
   "outputs": [],
   "source": [
    "import numpy as np\n",
    "import matplotlib.pyplot as plt\n",
    "import dmol\n",
    "from dmol import color_cycle"
   ]
  },
  {
   "cell_type": "code",
   "execution_count": 2,
   "metadata": {},
   "outputs": [
    {
     "data": {
      "text/plain": [
       "68.26666259765625"
      ]
     },
     "execution_count": 2,
     "metadata": {},
     "output_type": "execute_result"
    }
   ],
   "source": [
    "int(color_cycle[0][1:], 16)/256**2"
   ]
  },
  {
   "cell_type": "code",
   "execution_count": 3,
   "metadata": {},
   "outputs": [],
   "source": [
    "vertex_colors = []\n",
    "for c in color_cycle:\n",
    "    hex_color = int(c[1:], 16)\n",
    "    r = hex_color // 256**2\n",
    "    hex_color = hex_color - r* 256**2\n",
    "    g = hex_color //256\n",
    "    hex_color = hex_color - g * 256\n",
    "    b = hex_color\n",
    "    vertex_colors.append((r/256, g/256, b/256))\n",
    "vertex_colors = np.array(vertex_colors)"
   ]
  },
  {
   "cell_type": "code",
   "execution_count": 4,
   "metadata": {},
   "outputs": [
    {
     "data": {
      "text/plain": [
       "array([0.5       , 0.8046875 , 0.85546875])"
      ]
     },
     "execution_count": 4,
     "metadata": {},
     "output_type": "execute_result"
    }
   ],
   "source": [
    "def z6_fxn(x):\n",
    "    return vertex_colors[x]\n",
    "\n",
    "z6_fxn(5)"
   ]
  },
  {
   "cell_type": "code",
   "execution_count": 5,
   "metadata": {},
   "outputs": [
    {
     "data": {
      "text/plain": [
       "array([[ 1.23029068,  1.20237985, -0.38732682],\n",
       "       [-0.30230275, -1.04855297, -1.42001794],\n",
       "       [-1.70627019,  1.9507754 , -0.50965218]])"
      ]
     },
     "execution_count": 5,
     "metadata": {},
     "output_type": "execute_result"
    }
   ],
   "source": [
    "# make weights to be 3 x 3 matrices at each group element\n",
    "# 3x3 so that we have 3 color channels in and 3 out\n",
    "weights = np.random.normal(size = (6, 3,3))\n",
    "\n",
    "def z6_omega(x):\n",
    "    return weights[x]\n",
    "\n",
    "z6_omega(4)"
   ]
  },
  {
   "cell_type": "code",
   "execution_count": 6,
   "metadata": {},
   "outputs": [
    {
     "data": {
      "text/plain": [
       "array([ 2.66256433,  2.24592108, -1.13474484])"
      ]
     },
     "execution_count": 6,
     "metadata": {},
     "output_type": "execute_result"
    }
   ],
   "source": [
    "def z6_inv(g):\n",
    "    return (6-g)% 6\n",
    "\n",
    "def z6_prod(g1, g2):\n",
    "     return (g1 + g2) % 6\n",
    "\n",
    "def conv(f, p):\n",
    "     \n",
    "     def out(u):\n",
    "          g = np.arange(6)\n",
    "\n",
    "          c = np.sum(np.einsum(\"ij, ijk->ik\", f(z6_prod(u, z6_inv(g))), p(g)), axis=0)\n",
    "          return c\n",
    "     \n",
    "     return out\n",
    "\n",
    "conv(z6_fxn, z6_omega)(3)"
   ]
  },
  {
   "cell_type": "code",
   "execution_count": 7,
   "metadata": {},
   "outputs": [
    {
     "data": {
      "text/plain": [
       "(array([0.9375, 0.375 , 0.375 ]), array([0.5       , 0.8046875 , 0.85546875]))"
      ]
     },
     "execution_count": 7,
     "metadata": {},
     "output_type": "execute_result"
    }
   ],
   "source": [
    "def z6_fxn_trans(g, f):\n",
    "    return lambda h: f(z6_prod(z6_inv(g), h))\n",
    "\n",
    "z6_fxn(3), z6_fxn_trans(4, z6_fxn)(3)"
   ]
  },
  {
   "attachments": {},
   "cell_type": "markdown",
   "metadata": {},
   "source": [
    "We will compute $\\psi(\\mathbb{T}_4(f))$- The network acting on the transformed input function."
   ]
  },
  {
   "cell_type": "code",
   "execution_count": 8,
   "metadata": {},
   "outputs": [],
   "source": [
    "trans_element = 4\n",
    "trans_input_fxn = z6_fxn_trans(trans_element, z6_fxn)\n",
    "trans_input_out = conv(trans_input_fxn, z6_omega)"
   ]
  },
  {
   "attachments": {},
   "cell_type": "markdown",
   "metadata": {},
   "source": [
    "Now we compute $\\mathbb{T}_4\\psi(f(x))$ - The transform acting on the network output."
   ]
  },
  {
   "cell_type": "code",
   "execution_count": 9,
   "metadata": {},
   "outputs": [
    {
     "name": "stdout",
     "output_type": "stream",
     "text": [
      "g -> psi[f(g)], g-> psi(Tgf(g)), g -> Tg psi[f(g)] \n",
      "0 [ 1.58  3.71 -3.69] [ 2.59  2.34 -1.97] [ 2.59  2.34 -1.97]\n",
      "1 [ 4.06  2.55 -3.2 ] [ 2.66  2.25 -1.13] [ 2.66  2.25 -1.13]\n",
      "2 [ 2.59  2.34 -1.97] [ 4.16  0.82 -2.78] [ 4.16  0.82 -2.78]\n",
      "3 [ 2.66  2.25 -1.13] [ 2.9   2.33 -2.6 ] [ 2.9   2.33 -2.6 ]\n",
      "4 [ 4.16  0.82 -2.78] [ 1.58  3.71 -3.69] [ 1.58  3.71 -3.69]\n",
      "5 [ 2.9   2.33 -2.6 ] [ 4.06  2.55 -3.2 ] [ 4.06  2.55 -3.2 ]\n"
     ]
    }
   ],
   "source": [
    "output_fxn = conv(z6_fxn, z6_omega)\n",
    "trans_output_out = z6_fxn_trans(trans_element, output_fxn)\n",
    "\n",
    "print(\"g -> psi[f(g)], g-> psi(Tgf(g)), g -> Tg psi[f(g)] \")\n",
    "\n",
    "for i in range(6):\n",
    "\n",
    "    print(i,\n",
    "          np.round(conv(z6_fxn, z6_omega)(i), 2),\n",
    "          np.round(trans_input_out(i), 2),\n",
    "          np.round(trans_output_out(i), 2))"
   ]
  },
  {
   "cell_type": "code",
   "execution_count": 11,
   "metadata": {},
   "outputs": [
    {
     "data": {
      "image/png": "[encoded data removed]",
      "text/plain": [
       "<Figure size 900x692.308 with 3 Axes>"
      ]
     },
     "metadata": {},
     "output_type": "display_data"
    }
   ],
   "source": [
    "c1 = conv(z6_fxn, z6_omega)\n",
    "c2 = trans_input_out\n",
    "c3 = trans_output_out\n",
    "\n",
    "titles = [r\"$\\psi\\left[f(g)\\right]$\",\n",
    "          r\"$\\psi\\left[\\mathbb{T}_4(f)\\right]$\",\n",
    "          r\"$\\mathbb{T}_4\\psi\\left[f(g)\\right]$\",\n",
    "          ]\n",
    "\n",
    "def sigmoid(x):\n",
    "    return 1/(1 + np.exp(-1*x))\n",
    "\n",
    "def convert_color(r, g, b):\n",
    "    h = int(sigmoid(r)* 256**3 + sigmoid(g)* 256**2 + sigmoid(b)* 256)\n",
    "    return \"#{:6X}\".format(h)\n",
    "\n",
    "c1 = [sigmoid(c1(i)) for i in range(6)]\n",
    "c2 = [sigmoid(c2(i)) for i in range(6)]\n",
    "c3 = [sigmoid(c3(i)) for i in range(6)]\n",
    "\n",
    "fig, axs = plt.subplots(1,3, squeeze= True)\n",
    "points = np.array([(0,1),\n",
    "                   (0.5*np.sqrt(3), 0.5),\n",
    "                   (0.5*np.sqrt(3), -0.5),\n",
    "                   (0, -1),\n",
    "                   (-0.5*np.sqrt(3), -0.5),\n",
    "                   (-0.5*np.sqrt(3), 0.5),\n",
    "                   ])\n",
    "\n",
    "for i in range(3):\n",
    "    axs[i].scatter(points[:,0], points[:, 1], color= [c1, c2, c3][i])\n",
    "    axs[i].set_xticks([])\n",
    "    axs[i].set_yticks([])\n",
    "    axs[i].set_xlim(-1.4, 1.4)\n",
    "    axs[i].set_ylim(-1.4, 1.4)\n",
    "    axs[i].set_aspect(\"equal\")\n",
    "    axs[i].set_title(titles[i], fontsize = 8)\n",
    "\n",
    "plt.show()\n"
   ]
  },
  {
   "attachments": {},
   "cell_type": "markdown",
   "metadata": {},
   "source": [
    "$G-$ Equivariant Convolutions with Translation"
   ]
  },
  {
   "cell_type": "code",
   "execution_count": 12,
   "metadata": {},
   "outputs": [],
   "source": [
    "from functools import lru_cache, wraps\n",
    "\n",
    "def np_cache(*args, **kwargs):\n",
    "    \"\"\"LRU cache implementation for functions whose first parameter is a numpy array\n",
    "    >>> array = np.array([[1,2,3], [4,5,6]])\n",
    "    >>> @np_cache(maxsize =256)\n",
    "    ... def multiply(array, factor):\n",
    "    ...     print(\"Calculating...\")\n",
    "    ...     return factor*array\n",
    "    >>> multiply(array, 2)\n",
    "    Calculating...\n",
    "    array([[2,4,6],\n",
    "    [8, 10, 12]])\n",
    "    >>> multiply(array, 2)\n",
    "    array([[2,4,6],\n",
    "    [8, 10, 12]])\n",
    "    >>> multiply.cache_info()\n",
    "    CacheInfo(hits =1, misses=1, maxsize=256, currsize =1)\n",
    "    \"\"\"\n",
    "\n",
    "    def decorator(function):\n",
    "        @wraps(function)\n",
    "        def wrapper(np_array, *args, **kwargs):\n",
    "            hashable_array = array_to_tuple(np_array)\n",
    "            return cached_wrapper(hashable_array, *args, **kwargs)\n",
    "        \n",
    "        @lru_cache(*args, **kwargs)\n",
    "        def cached_wrapper(hashable_array, *args, **kwargs):\n",
    "            array = np.array(hashable_array)\n",
    "            return function(array, *args, **kwargs)\n",
    "        \n",
    "        def array_to_tuple(np_array):\n",
    "            \"\"\"Iterates recursively\"\"\"\n",
    "            try:\n",
    "                return tuple(array_to_tuple(_) for _ in np_array)\n",
    "            except TypeError:\n",
    "                return np_array\n",
    "        \n",
    "        # copy lru_cache attributes over too\n",
    "        wrapper.cache_info = cached_wrapper.cache_info\n",
    "        wrapper.cache_clear = cached_wrapper.cache_clear\n",
    "\n",
    "        return wrapper\n",
    "    \n",
    "    return decorator \n"
   ]
  },
  {
   "cell_type": "code",
   "execution_count": 13,
   "metadata": {},
   "outputs": [],
   "source": [
    "# load image and drop alpha channel\n",
    "W= 32\n",
    "try:\n",
    "    func_vals = plt.imread(\"quadimg.png\")[...,:3]\n",
    "except FileExistsError as e:\n",
    "    import urllib.request\n",
    "    urllib.request.urlretrieve(\"https://raw.githubusercontent.com/whitead/dmol-book/main/dl/quadimg.png\", \"quadimg.png\",\n",
    "                               )\n",
    "    func_vals = plt.imread(\"quadimg.png\")[...,:3]\n",
    "\n",
    "func_vals = np.pad(\n",
    "    func_vals, ((1,1), (1,1), (0,0)), mode= \"constant\", constant_values=0.2\n",
    "\n",
    ")\n",
    "\n",
    "def pix_func(x):\n",
    "    # clip & squeeze & round to account for transformed values\n",
    "    xclip = np.squeeze(np.clip(np.round(x), -W//2 -1, W//2)).astype(int)\n",
    "    # points are centered, fix that\n",
    "    xclip+= [W//2, W//2, 0]\n",
    "    # add 1 to account for padding\n",
    "\n",
    "    return func_vals[xclip[...,0]+1, xclip[...,1]+1]"
   ]
  },
  {
   "cell_type": "code",
   "execution_count": 14,
   "metadata": {},
   "outputs": [
    {
     "data": {
      "image/png": "[encoded data removed]",
      "text/plain": [
       "<Figure size 400x400 with 1 Axes>"
      ]
     },
     "metadata": {},
     "output_type": "display_data"
    }
   ],
   "source": [
    "def plot_func(f, ax= None):\n",
    "    if ax is None:\n",
    "        plt.figure(figsize=(2,2))\n",
    "        ax = plt.gca()\n",
    "    gridx, gridy = np.meshgrid(np.arange(-W//2, W//2), np.arange(-W//2, W//2), indexing=\"ij\")\n",
    "    # make it into batched x, y indices and add dummy 1 indices for augmented space\n",
    "    batched_idx = np.vstack( (gridx.flatten(), gridy.flatten(), np.ones_like(gridx.flatten()))).T\n",
    "    ax.imshow(f(batched_idx).reshape(W, W, 3), origin= \"upper\")\n",
    "    ax.axis(\"off\")\n",
    "\n",
    "plot_func(pix_func)"
   ]
  },
  {
   "cell_type": "code",
   "execution_count": 34,
   "metadata": {},
   "outputs": [
    {
     "data": {
      "image/png": "[encoded data removed]",
      "text/plain": [
       "<Figure size 400x400 with 1 Axes>"
      ]
     },
     "metadata": {},
     "output_type": "display_data"
    }
   ],
   "source": [
    "def make_h(rot, mirror):\n",
    "    \"\"\"Make h subgroup element\"\"\"\n",
    "    m = np.eye(3)\n",
    "    if mirror:\n",
    "        m = np.array([[-1, 0, 0], [0,1,0], [0,0,1]])\n",
    "    r = np.array([[np.cos(rot), -np.sin(rot), 0], [np.sin(rot), np.cos(rot), 0], [0,0,1]])\n",
    "    return r @ m\n",
    "\n",
    "def make_n(dx, dy):\n",
    "    \"\"\"Make normal subgroup element\"\"\"\n",
    "    return np.array([[1, 0, dx], [0,1,dy], [0,0,1]])\n",
    "\n",
    "def g_func_trans(g,f):\n",
    "    \"\"\"compute g-function transform\"\"\"\n",
    "    @np_cache(maxsize = W**3)\n",
    "    def fxn(x, g=g, f=f):\n",
    "        ginv = np.linalg.inv(g)\n",
    "        return f(ginv.reshape(1,3,3)@ x.reshape(-1,3,1))\n",
    "    return fxn\n",
    "\n",
    "g = make_h(np.pi, 1) @ make_n(12, -8)\n",
    "tfunc = g_func_trans(g, pix_func)\n",
    "plot_func(tfunc)"
   ]
  },
  {
   "cell_type": "code",
   "execution_count": 63,
   "metadata": {},
   "outputs": [
    {
     "name": "stdout",
     "output_type": "stream",
     "text": [
      "lifted [0.93333334 0.7176471  0.43137255]\n",
      "projected [[0.72941178 0.71764708 0.72156864]]\n"
     ]
    }
   ],
   "source": [
    "# enumerate stabilizer subgroup (rotation/mirrors)\n",
    "stabilizer = []\n",
    "for i in range(4):\n",
    "    for j in range(2):\n",
    "        stabilizer.append(make_h(i*np.pi/2, j))\n",
    "\n",
    "def lift(f):\n",
    "    \"\"\"Lift f into group\"\"\"\n",
    "    # create new function from original\n",
    "    # that is f(gx_0)\n",
    "    @np_cache(maxsize=W**3)\n",
    "    def fxn(g, f=f):\n",
    "        return f(g@ np.array([0,0,1]))\n",
    "    \n",
    "    return fxn\n",
    "\n",
    "def project(f):\n",
    "    \"\"\"create projected function space\"\"\"\n",
    "    @np_cache(maxsize = W**3)\n",
    "    def fxn(x, f=f):\n",
    "        # x may be batched so we have allow it to be N x3\n",
    "        x = np.array(x).reshape((-1, 3))\n",
    "        out = np.zeros((x.shape[0], 3))\n",
    "\n",
    "        for i, xi in list(enumerate(x)):\n",
    "            # find coset gH\n",
    "            lg = make_n(xi[0], xi[1])\n",
    "            # loop over coset\n",
    "            for h in stabilizer:\n",
    "                ghi = lg@h\n",
    "                out[i] += f(ghi)\n",
    "            out[i]/= len(stabilizer)\n",
    "        return out\n",
    "    return fxn\n",
    "\n",
    "print(\"lifted\", lift(pix_func)(g))\n",
    "print(\"projected\", project(lift(pix_func))([12, -8, 0]))"
   ]
  },
  {
   "cell_type": "code",
   "execution_count": 1,
   "metadata": {},
   "outputs": [
    {
     "data": {
      "text/plain": [
       "-3"
      ]
     },
     "execution_count": 1,
     "metadata": {},
     "output_type": "execute_result"
    }
   ],
   "source": [
    "-5//2"
   ]
  },
  {
   "cell_type": "code",
   "execution_count": 86,
   "metadata": {},
   "outputs": [
    {
     "data": {
      "text/plain": [
       "array([0.53496952, 0.00421064, 0.99956141])"
      ]
     },
     "execution_count": 86,
     "metadata": {},
     "output_type": "execute_result"
    }
   ],
   "source": [
    "kernel_width = 5\n",
    "# make some random values for kernel (untrained)\n",
    "# kernel is group elements X 3 X 3. The group elements are: N X 5 X 5\n",
    "\n",
    "kernel = np.random.uniform(-0.5, 0.5, size = (len(stabilizer), kernel_width, kernel_width, 3, 3))\n",
    "\n",
    "def conv(f, p=kernel):\n",
    "    @np_cache(maxsize = W**4)\n",
    "    def fxn(u):\n",
    "        result = 0\n",
    "        for hi, h in enumerate(stabilizer):\n",
    "            for nix in range(-kernel_width//2, kernel_width//2 ):\n",
    "                for niy in range(-kernel_width//2, kernel_width//2):\n",
    "                    result += (f(u@ make_n(-nix, -niy)@ np.linalg.inv(h))\n",
    "                               @ kernel[hi, nix+kernel_width//2, niy+kernel_width//2] )\n",
    "        \n",
    "        return sigmoid(result)\n",
    "    \n",
    "    return fxn\n",
    "\n",
    "cout = conv(lift(pix_func))\n",
    "\n",
    "cout(g)"
   ]
  },
  {
   "cell_type": "code",
   "execution_count": 87,
   "metadata": {},
   "outputs": [
    {
     "data": {
      "image/png": "[encoded data removed]",
      "text/plain": [
       "<Figure size 400x400 with 1 Axes>"
      ]
     },
     "metadata": {},
     "output_type": "display_data"
    }
   ],
   "source": [
    "def plot_coset(h, f, ax):\n",
    "    \"\"\"plot a function over group elements on cosets given representative\"\"\"\n",
    "    gridx, gridy = np.meshgrid(np.arange(-W//2, W//2), np.arange(-W//2, W//2), indexing=\"ij\")\n",
    "\n",
    "    batched_idx = np.vstack( (gridx.flatten(), gridy.flatten(), np.ones_like(gridx.flatten()))).T\n",
    "    values = np.zeros((W**2, 3))\n",
    "    for i, bi in enumerate(batched_idx):\n",
    "        values[i] = f(h@ make_n(bi[0], bi[1]))\n",
    "    ax.imshow(values.reshape(W, W, 3), origin= \"upper\")\n",
    "    ax.axis(\"off\")\n",
    "\n",
    "plt.figure(figsize=(2,2))\n",
    "plot_coset(make_h(0,1), lift(pix_func), ax= plt.gca())"
   ]
  },
  {
   "cell_type": "code",
   "execution_count": 88,
   "metadata": {},
   "outputs": [
    {
     "data": {
      "image/png": "[encoded data removed]",
      "text/plain": [
       "<Figure size 1600x800 with 8 Axes>"
      ]
     },
     "metadata": {},
     "output_type": "display_data"
    }
   ],
   "source": [
    "stabilizer_names = [\"$e$\", \"$r$\", \"$r^2$\", \"$r^3$\", \"$s$\", \"$rs$\", \"$r^2s$\", \"$r^3s$\"]\n",
    "fig, axs = plt.subplots(2, 4, figsize= (8,4))\n",
    "axs = axs.flatten()\n",
    "for i, (n,h) in enumerate(zip(stabilizer_names, stabilizer)):\n",
    "    ax = axs[i]\n",
    "    plot_coset(h, cout, ax)\n",
    "    ax.set_title(n)"
   ]
  },
  {
   "cell_type": "code",
   "execution_count": 90,
   "metadata": {},
   "outputs": [
    {
     "ename": "ModuleNotFoundError",
     "evalue": "No module named 'pycuda'",
     "output_type": "error",
     "traceback": [
      "\u001b[0;31m---------------------------------------------------------------------------\u001b[0m",
      "\u001b[0;31mModuleNotFoundError\u001b[0m                       Traceback (most recent call last)",
      "Cell \u001b[0;32mIn[90], line 1\u001b[0m\n\u001b[0;32m----> 1\u001b[0m \u001b[39mimport\u001b[39;00m \u001b[39mpycuda\u001b[39;00m\u001b[39m.\u001b[39;00m\u001b[39mautoinit\u001b[39;00m\n",
      "\u001b[0;31mModuleNotFoundError\u001b[0m: No module named 'pycuda'"
     ]
    }
   ],
   "source": [
    "import pycuda.autoinit"
   ]
  },
  {
   "cell_type": "code",
   "execution_count": 81,
   "metadata": {},
   "outputs": [
    {
     "data": {
      "text/plain": [
       "array([[-1,  0,  1,  2,  3],\n",
       "       [-1,  0,  1,  2,  3],\n",
       "       [-1,  0,  1,  2,  3],\n",
       "       [-1,  0,  1,  2,  3],\n",
       "       [-1,  0,  1,  2,  3]])"
      ]
     },
     "execution_count": 81,
     "metadata": {},
     "output_type": "execute_result"
    }
   ],
   "source": [
    "A = np.arange(-1, 4)\n",
    "B = np.arange(5, 10)\n",
    "C = np.meshgrid(A, B)\n"
   ]
  },
  {
   "cell_type": "code",
   "execution_count": 2,
   "metadata": {},
   "outputs": [],
   "source": [
    "# Distance Matrix\n",
    "import numpy as np\n",
    "from scipy import linalg\n",
    "from scipy.spatial.distance import cdist\n",
    "from sklearn.utils.graph_shortest_path import graph_shortest_path\n",
    "\n",
    "\n",
    "def make_adjacency(data, dist_func =\"euclidean\", eps=np.inf):\n",
    "    n,m = data.shape\n",
    "    dist = cdist(data.T, data.T, metric = dist_func)\n",
    "    adj = np.zeros((m,m)) + np.inf\n",
    "    bln = dist < eps\n",
    "    adj[bln] = dist[bln]\n",
    "    short = graph_shortest_path(adj)\n",
    "    return short"
   ]
  },
  {
   "cell_type": "code",
   "execution_count": null,
   "metadata": {},
   "outputs": [],
   "source": [
    "dist_matrix = make_adjacency(P.T, dist_func= \"euclidean\", eps= np.inf)"
   ]
  },
  {
   "cell_type": "code",
   "execution_count": 101,
   "metadata": {},
   "outputs": [],
   "source": [
    "import numpy as np\n",
    "import scipy as sp\n",
    "from scipy.stats import ortho_group, special_ortho_group\n",
    "from scipy.linalg import null_space\n",
    "from scipy.spatial import distance_matrix\n",
    "import random\n",
    "from sklearn.manifold import Isomap\n",
    "from sklearn.decomposition import PCA\n",
    "from procrustes.generic import generic as procrustes\n",
    "from procrustes.orthogonal import orthogonal as orth_procrustes\n",
    "\n",
    "\n",
    "# distance\n",
    "\n",
    "def geodesicDistance(X, k = 15):\n",
    "    iso = Isomap(n_components = 2,n_neighbors=k)\n",
    "    return iso.fit(X).dist_matrix_\n",
    "\n",
    "\n",
    "# greedy permutation\n",
    "\n",
    "def getGreedyPerm(D):\n",
    "    # Author: Chris Tralie\n",
    "    # https://gist.github.com/ctralie/128cc07da67f1d2e10ea470ee2d23fe8\n",
    "    if D.shape[0] != D.shape[1]:\n",
    "        D = distance_matrix(D,D)\n",
    "    N = D.shape[0]\n",
    "    perm = np.zeros(N, dtype=np.int64)\n",
    "    lambdas = np.zeros(N)\n",
    "    ds = D[0, :]\n",
    "    for i in range(1, N):\n",
    "        idx = np.argmax(ds)\n",
    "        perm[i] = idx\n",
    "        lambdas[i] = ds[idx]\n",
    "        ds = np.minimum(ds, D[idx, :])\n",
    "    return (perm, lambdas)\n",
    "\n",
    "\n",
    "# given distance matrix D and natural number J, returns a cover with J elements\n",
    "def greedyPermutationCover(D, J, overlap):\n",
    "    perm, lambdas = getGreedyPerm(D)\n",
    "    eps = lambdas[J-1]\n",
    "    #print(lambdas)\n",
    "    N = D.shape[0]\n",
    "    cover = {}\n",
    "    for i in perm[:J]:\n",
    "        cover[i] = []\n",
    "        for j in range(N):\n",
    "            if D[i,j] < overlap * eps :\n",
    "                cover[i].append(j)\n",
    "        #cover[i] = np.array(cover[i])\n",
    "    return perm[:J], cover, overlap * eps\n"
   ]
  },
  {
   "cell_type": "code",
   "execution_count": 1,
   "metadata": {},
   "outputs": [],
   "source": [
    "A = [4,5, 0, -1, 9 , 12, -23, 10, 8, 2]\n",
    "del A[-1]"
   ]
  },
  {
   "cell_type": "code",
   "execution_count": 2,
   "metadata": {},
   "outputs": [
    {
     "data": {
      "text/plain": [
       "[4, 5, 0, -1, 9, 12, -23, 10, 8]"
      ]
     },
     "execution_count": 2,
     "metadata": {},
     "output_type": "execute_result"
    }
   ],
   "source": [
    "A"
   ]
  },
  {
   "cell_type": "code",
   "execution_count": 3,
   "metadata": {},
   "outputs": [
    {
     "ename": "TypeError",
     "evalue": "list indices must be integers or slices, not tuple",
     "output_type": "error",
     "traceback": [
      "\u001b[0;31m---------------------------------------------------------------------------\u001b[0m",
      "\u001b[0;31mTypeError\u001b[0m                                 Traceback (most recent call last)",
      "Cell \u001b[0;32mIn[3], line 1\u001b[0m\n\u001b[0;32m----> 1\u001b[0m \u001b[39mdel\u001b[39;00m A[\u001b[39m2\u001b[39m, \u001b[39m4\u001b[39m, \u001b[39m6\u001b[39m ]\n",
      "\u001b[0;31mTypeError\u001b[0m: list indices must be integers or slices, not tuple"
     ]
    }
   ],
   "source": [
    "del A[2, 4, 6 ]"
   ]
  },
  {
   "cell_type": "code",
   "execution_count": null,
   "metadata": {},
   "outputs": [],
   "source": [
    "#indices = list\n",
    "for i in sorted(indices, reverse=True):\n",
    "    del data[i]\n"
   ]
  },
  {
   "cell_type": "code",
   "execution_count": 5,
   "metadata": {},
   "outputs": [],
   "source": [
    "import numpy as np\n",
    "A = np.array([[1,2,3], [4,5,6], [7,8,9]])\n",
    "A = list(A)\n",
    "del A[0]"
   ]
  },
  {
   "cell_type": "code",
   "execution_count": 6,
   "metadata": {},
   "outputs": [
    {
     "data": {
      "text/plain": [
       "[array([4, 5, 6]), array([7, 8, 9])]"
      ]
     },
     "execution_count": 6,
     "metadata": {},
     "output_type": "execute_result"
    }
   ],
   "source": [
    "A"
   ]
  },
  {
   "cell_type": "code",
   "execution_count": 14,
   "metadata": {},
   "outputs": [],
   "source": [
    "def fit(self):\n",
    "    self.graph = tf.Graph()\n",
    "    with self.graph.as_default():\n",
    "        self.X = tf.placeholder(self.dtype, shape=self.data.shape)\n",
    "        # Perform SVD\n",
    "        singular_values, u, _ = tf.svd(self.X)\n",
    "        # Create sigma matrix\n",
    "        sigma = tf.diag(singular_values)\n",
    "    with tf.Session(graph=self.graph) as session:\n",
    "        self.u, self.singular_values, self.sigma = session.run([u, singular_values, sigma],\n",
    "                                                               feed_dict={self.X: self.data})"
   ]
  },
  {
   "cell_type": "code",
   "execution_count": 15,
   "metadata": {},
   "outputs": [],
   "source": [
    "\n",
    "import numpy as np\n",
    "def reduce(self, n_dimensions=None, keep_info=None):\n",
    "    if keep_info:\n",
    "        # Normalize singular values\n",
    "        normalized_singular_values = self.singular_values / sum(self.singular_values)\n",
    "        # Create the aggregated ladder of kept information per dimension\n",
    "        ladder = np.cumsum(normalized_singular_values)\n",
    "        # Get the first index which is above the given information threshold\n",
    "        index = next(idx for idx, value in enumerate(ladder) if value >= keep_info) + 1\n",
    "        n_dimensions = index\n",
    "    with self.graph.as_default():\n",
    "        # Cut out the relevant part from sigma\n",
    "        sigma = tf.slice(self.sigma, [0, 0], [self.data.shape[1], n_dimensions])\n",
    "        # PCA\n",
    "        pca = tf.matmul(self.u, sigma)\n",
    "    with tf.Session(graph=self.graph) as session:\n",
    "        return session.run(pca, feed_dict={self.X: self.data})\n"
   ]
  },
  {
   "cell_type": "code",
   "execution_count": 1,
   "metadata": {},
   "outputs": [
    {
     "name": "stderr",
     "output_type": "stream",
     "text": [
      "2023-07-11 10:14:45.570022: I tensorflow/core/platform/cpu_feature_guard.cc:193] This TensorFlow binary is optimized with oneAPI Deep Neural Network Library (oneDNN) to use the following CPU instructions in performance-critical operations:  AVX2 FMA\n",
      "To enable them in other operations, rebuild TensorFlow with the appropriate compiler flags.\n",
      "2023-07-11 10:14:46.541238: W tensorflow/compiler/xla/stream_executor/platform/default/dso_loader.cc:64] Could not load dynamic library 'libcudart.so.11.0'; dlerror: libcudart.so.11.0: cannot open shared object file: No such file or directory\n",
      "2023-07-11 10:14:46.541337: I tensorflow/compiler/xla/stream_executor/cuda/cudart_stub.cc:29] Ignore above cudart dlerror if you do not have a GPU set up on your machine.\n",
      "2023-07-11 10:14:49.965387: W tensorflow/compiler/xla/stream_executor/platform/default/dso_loader.cc:64] Could not load dynamic library 'libnvinfer.so.7'; dlerror: libnvinfer.so.7: cannot open shared object file: No such file or directory\n",
      "2023-07-11 10:14:49.965885: W tensorflow/compiler/xla/stream_executor/platform/default/dso_loader.cc:64] Could not load dynamic library 'libnvinfer_plugin.so.7'; dlerror: libnvinfer_plugin.so.7: cannot open shared object file: No such file or directory\n",
      "2023-07-11 10:14:49.965916: W tensorflow/compiler/tf2tensorrt/utils/py_utils.cc:38] TF-TRT Warning: Cannot dlopen some TensorRT libraries. If you would like to use Nvidia GPU with TensorRT, please make sure the missing libraries mentioned above are installed properly.\n"
     ]
    }
   ],
   "source": [
    "from sklearn import datasets\n",
    "import matplotlib.pyplot as plt\n",
    "import seaborn as sns\n",
    "import tensorflow as tf\n",
    "#tf_pca = TF_PCA(iris_dataset.data, iris_dataset.target)"
   ]
  },
  {
   "cell_type": "code",
   "execution_count": 2,
   "metadata": {},
   "outputs": [],
   "source": [
    "class TF_PCA:\n",
    "    def __init__(self, X):\n",
    "        self.X = X\n",
    "        self.u = None\n",
    "        self.singular_values = None\n",
    "        self.sigma = None\n",
    "\n",
    "    def fit(self):\n",
    "        # Perform SVD\n",
    "        self.singular_values, self.u, _ = tf.linalg.svd(self.X)\n",
    "\n",
    "        # Create sigma matrix\n",
    "        self.sigma = tf.linalg.diag(self.singular_values)\n",
    "\n",
    "    def reduce(self, n_dimensions=None, keep_info=None):\n",
    "        if keep_info:\n",
    "            # Normalize singular values\n",
    "            normalized_singular_values = self.singular_values / sum(self.singular_values)\n",
    "\n",
    "            # Create the aggregated ladder of kept information per dimension\n",
    "            ladder = np.cumsum(normalized_singular_values)\n",
    "\n",
    "            # Get the first index which is above the given information threshold\n",
    "            index = next(idx for idx, value in enumerate(ladder) if value >= keep_info) + 1\n",
    "            n_dimensions = index\n",
    "\n",
    "        # Cut out the relevant part from sigma\n",
    "        sigma = tf.slice(self.sigma, [0, 0], [self.X.shape[1], n_dimensions])\n",
    "\n",
    "        # PCA\n",
    "        pca = tf.matmul(self.u, sigma)\n",
    "        return pca, sigma, self.u"
   ]
  },
  {
   "cell_type": "code",
   "execution_count": 5,
   "metadata": {},
   "outputs": [],
   "source": [
    "import pickle\n",
    "import numpy as np\n",
    "\n",
    "with open(\"features_train\", \"rb\") as f:\n",
    "        features = np.array(pickle.load(f))\n",
    "\n",
    "#with open(\"labels_pca1\", \"rb\") as f:\n",
    "        #labels = np.array(pickle.load(f))\n",
    "\n",
    "features= features.reshape(len(features), 1600)"
   ]
  },
  {
   "cell_type": "code",
   "execution_count": 6,
   "metadata": {},
   "outputs": [
    {
     "data": {
      "text/plain": [
       "(19286, 1600)"
      ]
     },
     "execution_count": 6,
     "metadata": {},
     "output_type": "execute_result"
    }
   ],
   "source": [
    "features.shape"
   ]
  },
  {
   "cell_type": "code",
   "execution_count": 7,
   "metadata": {},
   "outputs": [
    {
     "name": "stderr",
     "output_type": "stream",
     "text": [
      "2023-07-11 10:20:21.468323: W tensorflow/compiler/xla/stream_executor/platform/default/dso_loader.cc:64] Could not load dynamic library 'libcuda.so.1'; dlerror: libcuda.so.1: cannot open shared object file: No such file or directory\n",
      "2023-07-11 10:20:21.470054: W tensorflow/compiler/xla/stream_executor/cuda/cuda_driver.cc:265] failed call to cuInit: UNKNOWN ERROR (303)\n",
      "2023-07-11 10:20:21.471143: I tensorflow/compiler/xla/stream_executor/cuda/cuda_diagnostics.cc:156] kernel driver does not appear to be running on this host (DESKTOP-88TBBTR): /proc/driver/nvidia/version does not exist\n",
      "2023-07-11 10:20:21.482569: I tensorflow/core/platform/cpu_feature_guard.cc:193] This TensorFlow binary is optimized with oneAPI Deep Neural Network Library (oneDNN) to use the following CPU instructions in performance-critical operations:  AVX2 FMA\n",
      "To enable them in other operations, rebuild TensorFlow with the appropriate compiler flags.\n",
      "2023-07-11 10:20:21.510511: W tensorflow/tsl/framework/cpu_allocator_impl.cc:82] Allocation of 123430400 exceeds 10% of free system memory.\n",
      "2023-07-11 10:20:21.887013: W tensorflow/tsl/framework/cpu_allocator_impl.cc:82] Allocation of 123430400 exceeds 10% of free system memory.\n"
     ]
    },
    {
     "data": {
      "text/plain": [
       "<matplotlib.collections.PathCollection at 0x7f7a68b475b0>"
      ]
     },
     "execution_count": 7,
     "metadata": {},
     "output_type": "execute_result"
    },
    {
     "data": {
      "image/png": "[encoded data removed]",
      "text/plain": [
       "<Figure size 640x480 with 1 Axes>"
      ]
     },
     "metadata": {},
     "output_type": "display_data"
    }
   ],
   "source": [
    "from sklearn import datasets\n",
    "import matplotlib.pyplot as plt\n",
    "import seaborn as sns\n",
    "tf_pca = TF_PCA(features)\n",
    "tf_pca.fit()\n",
    "pca, sigma,u = tf_pca.reduce(n_dimensions=2)  # Results in 2 dimensions\n",
    "#color_mapping = {0: sns.xkcd_rgb['bright purple'], 1: sns.xkcd_rgb['lime'], 2: sns.xkcd_rgb['ochre']}\n",
    "#colors = list(map(lambda x: color_mapping[x], iris.target))\n",
    "plt.scatter(pca[:, 0], pca[:, 1])"
   ]
  },
  {
   "cell_type": "code",
   "execution_count": 19,
   "metadata": {},
   "outputs": [],
   "source": [
    "import numpy as np\n",
    "import math\n",
    "from sklearn.neighbors import KDTree\n",
    "\n",
    "def dense_sort_data(k, perc):\n",
    "    #P = np.asarray(Q[0:math.ceil(30/100*len(Q))])\n",
    "\n",
    "    tree = KDTree(pca, leaf_size =80)\n",
    "    dist, ind = tree.query(pca, k)\n",
    "\n",
    "    data_sort1 = list(zip(list(pca), dist[:,k-1]))\n",
    "    #labels_sort = list(zip(list(labels), dist[:,k-1]))\n",
    "    train_sort = list(zip(list(features), dist[:,k-1]))\n",
    "    len_data = len(data_sort1)\n",
    "\n",
    "    data_sort1.sort(key = lambda x:x[1], reverse = False)\n",
    "    #labels_sort.sort(key = lambda x:x[1], reverse = False)\n",
    "    train_sort.sort(key = lambda x:x[1], reverse = False)\n",
    "\n",
    "\n",
    "    B = list(zip(*data_sort1[0:math.ceil(perc/100*len_data)]))[0]\n",
    "    #C = list(zip(*labels_sort[0:math.ceil(perc/100*len_data)]))[0]\n",
    "    D = list(zip(*train_sort[0:math.ceil(perc/100*len_data)]))[0]\n",
    "\n",
    "    return np.asarray(B),  np.asarray(D)\n"
   ]
  },
  {
   "cell_type": "code",
   "execution_count": 20,
   "metadata": {},
   "outputs": [],
   "source": [
    "data_sort, train_sort = dense_sort_data(250, 100)\n"
   ]
  },
  {
   "cell_type": "code",
   "execution_count": 41,
   "metadata": {},
   "outputs": [
    {
     "data": {
      "text/plain": [
       "array([-2757.526  ,   145.32118], dtype=float32)"
      ]
     },
     "execution_count": 41,
     "metadata": {},
     "output_type": "execute_result"
    }
   ],
   "source": [
    "data_sort[1000]"
   ]
  },
  {
   "cell_type": "code",
   "execution_count": 42,
   "metadata": {},
   "outputs": [],
   "source": [
    "from scipy.spatial.distance import cdist\n",
    "\n",
    "a = cdist(np.array([data_sort[1000]]), data_sort)\n",
    "\n",
    "val = np.argmax(a[0])\n",
    "eps = a[0][val]"
   ]
  },
  {
   "cell_type": "code",
   "execution_count": 76,
   "metadata": {},
   "outputs": [
    {
     "data": {
      "text/plain": [
       "1317.2543522462438"
      ]
     },
     "execution_count": 76,
     "metadata": {},
     "output_type": "execute_result"
    }
   ],
   "source": [
    "eps"
   ]
  },
  {
   "cell_type": "code",
   "execution_count": 54,
   "metadata": {},
   "outputs": [],
   "source": [
    "cover = []\n",
    "N = len(data_sort)\n",
    "for j in range(N):\n",
    "    if a[0][j] <= eps/5.4:\n",
    "        cover.append(j)"
   ]
  },
  {
   "cell_type": "code",
   "execution_count": 81,
   "metadata": {},
   "outputs": [
    {
     "data": {
      "text/plain": [
       "3786"
      ]
     },
     "execution_count": 81,
     "metadata": {},
     "output_type": "execute_result"
    }
   ],
   "source": [
    "len(cover)"
   ]
  },
  {
   "cell_type": "code",
   "execution_count": 125,
   "metadata": {},
   "outputs": [],
   "source": [
    "fiber = []\n",
    "for j in cover:\n",
    "    \n",
    "    fiber.append(train_sort[j])\n",
    "\n",
    "fiber_ = []\n",
    "for i in cover:\n",
    "    \n",
    "    fiber_.append(data_sort[i])\n",
    "\n",
    "\n",
    "a_list = cdist(np.array([data_sort[1000]]), np.asarray(fiber_))\n",
    "sub_cover = []\n",
    "n = len(fiber)\n",
    "\n",
    "for j in range(n):\n",
    "    if a_list[0][j] <= eps/5.7:\n",
    "        sub_cover.append(j)\n"
   ]
  },
  {
   "cell_type": "code",
   "execution_count": 124,
   "metadata": {},
   "outputs": [],
   "source": [
    "len(fiber)\n",
    "#len(sub_cover)\n",
    "fiber = np.asarray(fiber)"
   ]
  },
  {
   "cell_type": "code",
   "execution_count": 88,
   "metadata": {},
   "outputs": [
    {
     "data": {
      "text/plain": [
       "array([-2908.2754 ,   172.59648], dtype=float32)"
      ]
     },
     "execution_count": 88,
     "metadata": {},
     "output_type": "execute_result"
    }
   ],
   "source": [
    "fiber_[0]"
   ]
  },
  {
   "cell_type": "code",
   "execution_count": 126,
   "metadata": {},
   "outputs": [],
   "source": [
    "train_fiber = fiber\n",
    "for i in sorted(sub_cover, reverse=True):\n",
    "    del train_fiber[i]\n"
   ]
  },
  {
   "cell_type": "code",
   "execution_count": 127,
   "metadata": {},
   "outputs": [],
   "source": [
    "train_fiber =np.asarray(train_fiber)"
   ]
  },
  {
   "cell_type": "code",
   "execution_count": 128,
   "metadata": {},
   "outputs": [
    {
     "data": {
      "text/plain": [
       "(309, 1600)"
      ]
     },
     "execution_count": 128,
     "metadata": {},
     "output_type": "execute_result"
    }
   ],
   "source": [
    "train_fiber.shape"
   ]
  },
  {
   "cell_type": "code",
   "execution_count": 55,
   "metadata": {},
   "outputs": [],
   "source": [
    "train_list = list(train_sort)\n",
    "for i in sorted(cover, reverse=True):\n",
    "    del train_list[i]\n",
    "\n",
    "\n",
    "#labels_list = list(labels_sort)\n",
    "#for i in sorted(cover, reverse=True):\n",
    " #   del labels_list[i]\n",
    "\n"
   ]
  },
  {
   "cell_type": "code",
   "execution_count": 56,
   "metadata": {},
   "outputs": [],
   "source": [
    "data_array = np.asarray(train_list)\n",
    "#labels_array = np.asarray(labels_list)"
   ]
  },
  {
   "cell_type": "code",
   "execution_count": 97,
   "metadata": {},
   "outputs": [],
   "source": [
    "#data_array.shape\n",
    "train_fiber = list(train_fiber)\n",
    "train_fiber = np.asarray(train_fiber)"
   ]
  },
  {
   "cell_type": "code",
   "execution_count": 16,
   "metadata": {},
   "outputs": [],
   "source": [
    "with open('features_pca2','wb') as f:\n",
    "    pickle.dump(data_array,f,protocol=4)\n",
    "\n",
    "\n",
    "with open('labels_pca2','wb') as f:\n",
    "    pickle.dump(labels_array,f,protocol=4)"
   ]
  },
  {
   "cell_type": "code",
   "execution_count": 105,
   "metadata": {},
   "outputs": [
    {
     "data": {
      "text/plain": [
       "791"
      ]
     },
     "execution_count": 105,
     "metadata": {},
     "output_type": "execute_result"
    }
   ],
   "source": [
    "len(fiber)"
   ]
  },
  {
   "cell_type": "code",
   "execution_count": 122,
   "metadata": {},
   "outputs": [
    {
     "data": {
      "text/plain": [
       "<matplotlib.collections.PathCollection at 0x7f7a21f0e910>"
      ]
     },
     "execution_count": 122,
     "metadata": {},
     "output_type": "execute_result"
    },
    {
     "data": {
      "image/png": "[encoded data removed]",
      "text/plain": [
       "<Figure size 640x480 with 1 Axes>"
      ]
     },
     "metadata": {},
     "output_type": "display_data"
    }
   ],
   "source": [
    "tf_pca = TF_PCA(train_fiber)\n",
    "tf_pca.fit()\n",
    "pca_1, sigma,u = tf_pca.reduce(n_dimensions=2)  # Results in 2 dimensions\n",
    "#color_mapping = {0: sns.xkcd_rgb['bright purple'], 1: sns.xkcd_rgb['lime'], 2: sns.xkcd_rgb['ochre']}\n",
    "#colors = list(map(lambda x: color_mapping[x], iris.target))\n",
    "plt.scatter(pca_1[:, 0], pca_1[:, 1])"
   ]
  },
  {
   "cell_type": "code",
   "execution_count": 92,
   "metadata": {},
   "outputs": [],
   "source": [
    "import matplotlib.pyplot as plt\n",
    "import matplotlib.patches as patches\n",
    "import numpy as np\n",
    "import math\n",
    "from sklearn.manifold import Isomap\n",
    "from numpy.linalg import norm\n",
    "from ripser import ripser\n",
    "from persim import plot_diagrams\n",
    "import warnings\n",
    "warnings.filterwarnings('ignore')"
   ]
  },
  {
   "cell_type": "code",
   "execution_count": 130,
   "metadata": {},
   "outputs": [
    {
     "data": {
      "image/png": "[encoded data removed]",
      "text/plain": [
       "<Figure size 640x480 with 1 Axes>"
      ]
     },
     "metadata": {},
     "output_type": "display_data"
    }
   ],
   "source": [
    "ripser_out_z2 = ripser(train_fiber, coeff=2, do_cocycles = True, maxdim = 1, n_perm = 300)\n",
    "dgmsz2 = ripser_out_z2['dgms']\n",
    "plot_diagrams(dgmsz2, labels = [\"$H^0$\", \"$H^1$\", \"$H^2$\", \"$H^3$\"])\n",
    "#plt.title(\"$\\beta_1 = 5$\")\n",
    "#plt.savefig(\"data_diag.png\")"
   ]
  },
  {
   "cell_type": "code",
   "execution_count": 20,
   "metadata": {},
   "outputs": [],
   "source": [
    "A = list(dgmsz2[1])\n",
    "A.sort(key = lambda x:x[1]-x[0], reverse = True)"
   ]
  },
  {
   "cell_type": "code",
   "execution_count": 21,
   "metadata": {},
   "outputs": [
    {
     "data": {
      "text/plain": [
       "[array([1314.54821777, 1625.01940918]),\n",
       " array([1306.82629395, 1605.53259277]),\n",
       " array([1496.2746582 , 1773.24023438]),\n",
       " array([1338.93237305, 1613.47302246]),\n",
       " array([1294.95751953, 1568.49414062]),\n",
       " array([1319.26867676, 1589.70910645]),\n",
       " array([1408.45263672, 1670.58105469]),\n",
       " array([1318.31860352, 1564.0501709 ]),\n",
       " array([1304.74133301, 1547.94604492]),\n",
       " array([1318.29431152, 1560.36572266]),\n",
       " array([1302.67956543, 1530.84777832]),\n",
       " array([1310.80505371, 1533.60876465]),\n",
       " array([1314.9395752 , 1530.75927734]),\n",
       " array([1349.48254395, 1558.31762695]),\n",
       " array([1264.33618164, 1470.25231934]),\n",
       " array([1417.27905273, 1613.41870117]),\n",
       " array([1375.97314453, 1568.54650879]),\n",
       " array([1305.82458496, 1498.        ]),\n",
       " array([1292.2232666 , 1480.95678711]),\n",
       " array([1321.81726074, 1509.60754395])]"
      ]
     },
     "execution_count": 21,
     "metadata": {},
     "output_type": "execute_result"
    }
   ],
   "source": [
    "A[:20]"
   ]
  },
  {
   "cell_type": "code",
   "execution_count": 24,
   "metadata": {},
   "outputs": [
    {
     "data": {
      "image/png": "[encoded data removed]",
      "text/plain": [
       "<Figure size 640x480 with 1 Axes>"
      ]
     },
     "metadata": {},
     "output_type": "display_data"
    }
   ],
   "source": [
    "ripser_out_z2 = ripser(pca_1, coeff=2, do_cocycles = True, maxdim = 1, n_perm = 600)\n",
    "dgmsz2 = ripser_out_z2['dgms']\n",
    "plot_diagrams(dgmsz2, labels = [\"$H^0$\", \"$H^1$\", \"$H^2$\", \"$H^3$\"])\n",
    "#plt.title(\"$\\beta_1 = 5$\")\n",
    "#plt.savefig(\"data_diag.png\")"
   ]
  },
  {
   "cell_type": "code",
   "execution_count": 49,
   "metadata": {},
   "outputs": [
    {
     "data": {
      "text/plain": [
       "(7036, 1600)"
      ]
     },
     "execution_count": 49,
     "metadata": {},
     "output_type": "execute_result"
    }
   ],
   "source": [
    "data_array.shape"
   ]
  },
  {
   "cell_type": "code",
   "execution_count": null,
   "metadata": {},
   "outputs": [],
   "source": []
  }
 ],
 "metadata": {
  "kernelspec": {
   "display_name": "fibered_backup",
   "language": "python",
   "name": "python3"
  },
  "language_info": {
   "codemirror_mode": {
    "name": "ipython",
    "version": 3
   },
   "file_extension": ".py",
   "mimetype": "text/x-python",
   "name": "python",
   "nbconvert_exporter": "python",
   "pygments_lexer": "ipython3",
   "version": "3.9.15"
  },
  "orig_nbformat": 4
 },
 "nbformat": 4,
 "nbformat_minor": 2
}
