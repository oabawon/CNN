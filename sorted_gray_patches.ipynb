{
 "cells": [
  {
   "cell_type": "code",
   "execution_count": 1,
   "metadata": {},
   "outputs": [
    {
     "name": "stderr",
     "output_type": "stream",
     "text": [
      "2023-05-30 12:56:59.399932: I tensorflow/core/platform/cpu_feature_guard.cc:193] This TensorFlow binary is optimized with oneAPI Deep Neural Network Library (oneDNN) to use the following CPU instructions in performance-critical operations:  AVX2 FMA\n",
      "To enable them in other operations, rebuild TensorFlow with the appropriate compiler flags.\n",
      "2023-05-30 12:57:00.550299: W tensorflow/compiler/xla/stream_executor/platform/default/dso_loader.cc:64] Could not load dynamic library 'libcudart.so.11.0'; dlerror: libcudart.so.11.0: cannot open shared object file: No such file or directory\n",
      "2023-05-30 12:57:00.550374: I tensorflow/compiler/xla/stream_executor/cuda/cudart_stub.cc:29] Ignore above cudart dlerror if you do not have a GPU set up on your machine.\n",
      "2023-05-30 12:57:04.698773: W tensorflow/compiler/xla/stream_executor/platform/default/dso_loader.cc:64] Could not load dynamic library 'libnvinfer.so.7'; dlerror: libnvinfer.so.7: cannot open shared object file: No such file or directory\n",
      "2023-05-30 12:57:04.699125: W tensorflow/compiler/xla/stream_executor/platform/default/dso_loader.cc:64] Could not load dynamic library 'libnvinfer_plugin.so.7'; dlerror: libnvinfer_plugin.so.7: cannot open shared object file: No such file or directory\n",
      "2023-05-30 12:57:04.699154: W tensorflow/compiler/tf2tensorrt/utils/py_utils.cc:38] TF-TRT Warning: Cannot dlopen some TensorRT libraries. If you would like to use Nvidia GPU with TensorRT, please make sure the missing libraries mentioned above are installed properly.\n"
     ]
    }
   ],
   "source": [
    "import numpy as np\n",
    "import pickle\n",
    "import matplotlib.pyplot as plt\n",
    "\n",
    "#from tensorflow.keras.applications.inception_v3 import InceptionV3\n",
    "import numpy as np\n",
    "import tensorflow as tf\n",
    "from tensorflow import keras\n",
    "from tensorflow.keras.preprocessing import image \n",
    "import tensorflow.keras.backend as K\n",
    "from numpy.linalg import norm\n",
    "# Display\n",
    "from IPython.display import Image as Image1\n",
    "from IPython.display import display\n",
    "\n",
    "\n",
    "import matplotlib.pyplot as plt\n",
    "import matplotlib.cm as cm"
   ]
  },
  {
   "cell_type": "code",
   "execution_count": 2,
   "metadata": {},
   "outputs": [],
   "source": [
    "import numpy as np\n",
    "from numpy.linalg import norm\n",
    "import matplotlib.pyplot as plt\n",
    "import matplotlib.cm as cm"
   ]
  },
  {
   "cell_type": "code",
   "execution_count": 3,
   "metadata": {},
   "outputs": [
    {
     "name": "stderr",
     "output_type": "stream",
     "text": [
      "2023-05-17 15:56:10.583419: W tensorflow/compiler/xla/stream_executor/platform/default/dso_loader.cc:64] Could not load dynamic library 'libcuda.so.1'; dlerror: libcuda.so.1: cannot open shared object file: No such file or directory\n",
      "2023-05-17 15:56:10.583487: W tensorflow/compiler/xla/stream_executor/cuda/cuda_driver.cc:265] failed call to cuInit: UNKNOWN ERROR (303)\n",
      "2023-05-17 15:56:10.583567: I tensorflow/compiler/xla/stream_executor/cuda/cuda_diagnostics.cc:156] kernel driver does not appear to be running on this host (DESKTOP-88TBBTR): /proc/driver/nvidia/version does not exist\n",
      "2023-05-17 15:56:10.584794: I tensorflow/core/platform/cpu_feature_guard.cc:193] This TensorFlow binary is optimized with oneAPI Deep Neural Network Library (oneDNN) to use the following CPU instructions in performance-critical operations:  AVX2 FMA\n",
      "To enable them in other operations, rebuild TensorFlow with the appropriate compiler flags.\n"
     ]
    }
   ],
   "source": [
    "model_builder = keras.applications.inception_v3\n",
    "img_size = (299, 299)\n",
    "preprocess_input = keras.applications.inception_v3.preprocess_input\n",
    "decode_predictions = keras.applications.inception_v3.decode_predictions\n",
    "\n",
    "model = InceptionV3(weights='imagenet')\n",
    "name_last_conv = model.layers[-14].name"
   ]
  },
  {
   "cell_type": "code",
   "execution_count": 4,
   "metadata": {},
   "outputs": [
    {
     "data": {
      "text/plain": [
       "'conv2d_93'"
      ]
     },
     "execution_count": 4,
     "metadata": {},
     "output_type": "execute_result"
    }
   ],
   "source": [
    "name_last_conv"
   ]
  },
  {
   "cell_type": "code",
   "execution_count": 3,
   "metadata": {},
   "outputs": [],
   "source": [
    "A = []\n",
    "A.append((1,2))\n",
    "A.append((3,7))"
   ]
  },
  {
   "cell_type": "code",
   "execution_count": 4,
   "metadata": {},
   "outputs": [
    {
     "data": {
      "text/plain": [
       "1"
      ]
     },
     "execution_count": 4,
     "metadata": {},
     "output_type": "execute_result"
    }
   ],
   "source": []
  },
  {
   "cell_type": "code",
   "execution_count": 4,
   "metadata": {},
   "outputs": [],
   "source": [
    "def get_heatmap(img_path):\n",
    "    \n",
    "    # Get 8x8 heatmap feature\n",
    "    \n",
    "    dim = 299\n",
    "\n",
    "\n",
    "    img = image.load_img(img_path, target_size=(dim, dim))\n",
    "    #model = InceptionResNetV2(weights='imagenet')\n",
    "\n",
    "    x = image.img_to_array(img)\n",
    "    x = np.expand_dims(x, axis=0)\n",
    "    x = preprocess_input(x)\n",
    "\n",
    "    #preds = model.predict(x)\n",
    "\n",
    "\n",
    "    with tf.GradientTape() as tape:\n",
    "        last_conv_layer = model.get_layer(name_last_conv)\n",
    "        iterate = tf.keras.models.Model([model.inputs], [model.output, last_conv_layer.output])\n",
    "        model_out, last_conv_layer = iterate(x)\n",
    "        class_out = model_out[:, np.argmax(model_out[0])]\n",
    "        grads = tape.gradient(class_out, last_conv_layer)\n",
    "        pooled_grads = K.mean(grads, axis=(0, 1, 2))\n",
    "  \n",
    "    heatmap = tf.reduce_mean(tf.multiply(pooled_grads, last_conv_layer), axis=-1)\n",
    "\n",
    "    heatmap = np.maximum(heatmap, 0)\n",
    "    heatmap = np.asarray(heatmap).astype(np.float64)\n",
    "    heatmap = 1.01**heatmap\n",
    "    heatmap /= np.max(heatmap)\n",
    "    heatmap = 255* heatmap\n",
    "    heatmap = heatmap.reshape((8, 8))\n",
    "    return heatmap\n",
    "    #plt.matshow(heatmap)\n",
    "    #plt.show()\n"
   ]
  },
  {
   "cell_type": "code",
   "execution_count": 5,
   "metadata": {},
   "outputs": [],
   "source": [
    "\n",
    "import os\n",
    "\n",
    "def list_of_folders():\n",
    "    data_folder_path = \"/mnt/c/Users/soaba/code/CNN/data_folders_gray\"\n",
    "    folder_dir_list = os.listdir(data_folder_path)\n",
    "\n",
    "    return folder_dir_list\n",
    "\n",
    "    \n",
    "\n",
    "\n",
    "\n",
    "def heatmap_n_folder():\n",
    "\n",
    "    folder_dir_list = list_of_folders()\n",
    "\n",
    "    \n",
    "    for folder in folder_dir_list[8:10]:\n",
    "        folder_path = \"/mnt/c/Users/soaba/code/CNN/data_folders_gray\"+ '/'+folder\n",
    "        heat_path= \"/mnt/c/Users/soaba/code/CNN/heatmap_folder\"\n",
    "\n",
    "        if not os.path.exists(heat_path+ '/'+ folder+'_heatmap'):\n",
    "            os.makedirs(heat_path+ '/'+ folder+'_heatmap')\n",
    "\n",
    "        dir_list = os.listdir(folder_path)\n",
    "        for x in dir_list:\n",
    "            heatmap = get_heatmap(folder_path+'/'+x)\n",
    "            \n",
    "            outfilez = open(heat_path+ '/'+ folder+'_heatmap'+ '/'+ x+ '_heat_data.pckl', 'wb')\n",
    "            pickle.dump(heatmap, outfilez)\n",
    "            outfilez.close()\n",
    "\n",
    "\n",
    "    \n",
    "                    \n",
    "    return None\n"
   ]
  },
  {
   "cell_type": "code",
   "execution_count": 6,
   "metadata": {},
   "outputs": [],
   "source": [
    "#Get heatmap\n",
    "heatmap_n_folder()"
   ]
  },
  {
   "cell_type": "code",
   "execution_count": 13,
   "metadata": {},
   "outputs": [],
   "source": [
    "import pickle\n",
    "\n",
    "with open('heatmap_folder/n01682714_gray_heatmap/n01682714_10227.JPEG_heat_data.pckl', 'rb') as handle:\n",
    "    Q= pickle.load(handle)\n"
   ]
  },
  {
   "cell_type": "code",
   "execution_count": 14,
   "metadata": {},
   "outputs": [
    {
     "data": {
      "text/plain": [
       "255.0"
      ]
     },
     "execution_count": 14,
     "metadata": {},
     "output_type": "execute_result"
    }
   ],
   "source": [
    "Q.max()"
   ]
  },
  {
   "cell_type": "code",
   "execution_count": 5,
   "metadata": {},
   "outputs": [
    {
     "data": {
      "text/plain": [
       "2.5"
      ]
     },
     "execution_count": 5,
     "metadata": {},
     "output_type": "execute_result"
    }
   ],
   "source": [
    "import numpy as np\n",
    "A = np.array([1,2,3,4])\n",
    "np.mean(A)"
   ]
  },
  {
   "cell_type": "code",
   "execution_count": 50,
   "metadata": {},
   "outputs": [],
   "source": [
    "def jet_heatmap_gray(heatmap, img_path):\n",
    "\n",
    "    \"\"\"Obtain jet heat map in grayscale\n",
    "    input: Input is the 8x8 heatmap\n",
    "    output: Returns a 2D array of size img.shape[:2]\n",
    "\n",
    "    \"\"\"\n",
    "    #heatmap = get_heatmap(img_path)\n",
    "    A = np.zeros(shape= (8,8,3), dtype= \"float128\").astype(np.float128)\n",
    "    A[:,:,0] = heatmap\n",
    "    A[:,:,1] = heatmap\n",
    "    A[:,:,2] = heatmap\n",
    "\n",
    "    #img = keras.preprocessing.image.load_img(img_path)\n",
    "    #img = keras.preprocessing.image.img_to_array(img)\n",
    "    \n",
    "    img = image.load_img(img_path, target_size=(299, 299))\n",
    "    x = image.img_to_array(img)\n",
    "\n",
    "\n",
    "\n",
    "    heatmap_test = keras.preprocessing.image.array_to_img(A)\n",
    "    heatmap_test = heatmap_test.resize((299, 299))\n",
    "    heatmap_gray = keras.preprocessing.image.img_to_array(heatmap_test)\n",
    "\n",
    "    return x, heatmap_gray[:,:,0]\n",
    "\n",
    "\n",
    "\n",
    "\n",
    "def prob_gray(heat_data):\n",
    "\n",
    "    \"\"\"\n",
    "    Input: 8x8 heatmap\n",
    "    Output: List of intensities at each pixel\n",
    "    The intensities summed up to 1\n",
    "    \"\"\"\n",
    "    heat_data = np.asarray(heat_data).astype(np.float128)\n",
    "    heat_data = 1.01**heat_data\n",
    "    heat_data = 1/heat_data.max()*heat_data\n",
    "    heat_data = np.exp(heat_data)\n",
    "    heat_data = np.exp(heat_data)\n",
    "    heat_data = np.exp(heat_data)\n",
    "    heat_data = (np.exp(1)+ heat_data)**2\n",
    "    max_sum = np.sum(heat_data)\n",
    "    prob_gray_im = 1/max_sum* heat_data\n",
    "    \n",
    "    \n",
    "\n",
    "    prob_gray_im = np.round(prob_gray_im, decimals= 16)\n",
    "    return list(prob_gray_im.flatten()), np.asarray(list(prob_gray_im.flatten())).astype(np.float128)\n",
    "\n",
    "\n",
    "\n",
    "\n",
    "\n",
    "from itertools import product\n",
    "\n",
    "from PIL import Image\n",
    "from numpy import asarray\n",
    "import math\n",
    "from itertools import product\n",
    "import numpy as np\n",
    "import os\n",
    "\n",
    "\n",
    "\n",
    "def num_array(img_path):\n",
    "    # open image as numpy array\n",
    "\n",
    "    img_ = Image.open(img_path)\n",
    "    num_img = asarray(img_)\n",
    "    return num_img\n",
    "\n",
    "\n",
    "def red_regions_index(heatmap, img_path, n):\n",
    "\n",
    "\n",
    "\n",
    "    img_arr, heat_data = jet_heatmap_gray(heatmap, img_path)\n",
    "    prob_data,_ = prob_gray(heat_data)\n",
    "    array_prob_data = np.asarray(prob_data)\n",
    "    array_prob_data = array_prob_data.astype(np.float128)\n",
    "    array_prob_data[array_prob_data.argmax()]+=(1- array_prob_data.sum())\n",
    "    \n",
    "    a, b = (299, 299)\n",
    "    #a, b = (img_arr.shape[0], img_arr.shape[1])\n",
    "    A = np.arange(a)\n",
    "    B = np.arange(b)\n",
    "    C = list(product(A,B))\n",
    "\n",
    "    index_regions = np.random.choice(len(prob_data), n, replace=False, p= list(array_prob_data))\n",
    "\n",
    "    return img_arr, index_regions, C, heat_data\n",
    "\n",
    "\n",
    "def red_regions(heatmap, img_path, n, l):\n",
    "    list_red_regions = []\n",
    "    img_arr, region_indexes, C, heat_data = red_regions_index(heatmap, img_path, n)\n",
    "    for x in region_indexes:\n",
    "\n",
    "        if len(img_arr[C[x][0]-1:(C[x][0]+2), C[x][1]-1:(C[x][1]+2)].flatten())==27 and len(img_arr[C[x][0]-l:(C[x][0]+l), C[x][1]-l:(C[x][1]+l)].flatten())>=1:\n",
    "\n",
    "            list_red_regions.append((img_arr[C[x][0]-1:(C[x][0]+2), C[x][1]-1:(C[x][1]+2)][:,:,0].flatten(), \n",
    "                                     np.mean(heat_data[C[x][0]-l:(C[x][0]+l), C[x][1]-l:(C[x][1]+l)].flatten()) ))\n",
    "\n",
    "    return list_red_regions\n",
    "\n",
    "\n",
    "#and len(img_arr[C[x][0]-l:(C[x][0]+l), C[x][1]-l:(C[x][1]+l)].flatten())>=1\n",
    "\n",
    "\n",
    "\n",
    "#def list_of_folders():\n",
    " #   data_folder_path = \"/mnt/c/Users/soaba/code/CNN/data_folders_gray\"\n",
    "  #  folder_dir_list = os.listdir(data_folder_path)\n",
    "\n",
    "   # return folder_dir_list\n",
    "\n",
    "    \n",
    "\n",
    "\n",
    "\n",
    "#def patches_n_folder(n):\n",
    "\n",
    " #   folder_dir_list = list_of_folders()\n",
    "    \n",
    "  #  big_list = []\n",
    "   # for folder in folder_dir_list[10:20]:\n",
    "    #    folder_path = \"/mnt/c/Users/soaba/code/CNN/data_folders_gray\"+ '/'+folder\n",
    "     #   dir_list = os.listdir(folder_path)\n",
    "      #  for x in dir_list:\n",
    "       #     heatmap = get_heatmap(folder_path+'/'+x)\n",
    "        #    #_, rr,_ = red_regions_index(heatmap, folder_path+'/'+x, n)\n",
    "         #   #if len(rr)!=0:\n",
    "\n",
    "          #  patches = red_regions(heatmap, folder_path+'/'+x, n)\n",
    "           # big_list.extend(patches)\n",
    "                \n",
    "   # return np.asarray(big_list)\n",
    "\n",
    "\n",
    "\n",
    "\n"
   ]
  },
  {
   "cell_type": "code",
   "execution_count": 123,
   "metadata": {},
   "outputs": [],
   "source": [
    "def list_of_folders():\n",
    "    data_folder_path = \"/mnt/c/Users/soaba/code/CNN/data_folders_gray\"\n",
    "    data_folder_heat = \"/mnt/c/Users/soaba/code/CNN/heatmap_folder\"\n",
    "    folder_dir_list = os.listdir(data_folder_path)\n",
    "    folder_dir_list1 = os.listdir(data_folder_heat)\n",
    "\n",
    "    return folder_dir_list, folder_dir_list1\n",
    "\n",
    "    \n",
    "\n",
    "\n",
    "\n",
    "def patches_n_folder(n, l):\n",
    "\n",
    "    folder_dir_list, folder_dir_list1 = list_of_folders()\n",
    "    #m = len(folder_dir_list1)\n",
    "    big_list = []\n",
    "        \n",
    "    for folder, heatfolder in list(zip(folder_dir_list[24:27], folder_dir_list1[24:27])):\n",
    "        \n",
    "        folder_path = \"/mnt/c/Users/soaba/code/CNN/data_folders_gray\"+ '/'+folder\n",
    "        dir_list = os.listdir(folder_path)\n",
    "        folder_path1 = \"/mnt/c/Users/soaba/code/CNN/heatmap_folder\"+ '/'+heatfolder\n",
    "        dir_list1 = os.listdir(folder_path1)\n",
    "\n",
    "        for y, x in list(zip(dir_list1[:], dir_list[:])):\n",
    "            with open(folder_path1 +'/'+y, 'rb') as handle:\n",
    "                heatmap= pickle.load(handle)    \n",
    "            \n",
    "            patches = red_regions(heatmap, folder_path+'/'+x, n, l)\n",
    "            big_list.extend(patches)\n",
    "    \n",
    "    outfilez = open('patches0_:3_heat.pckl', 'wb')\n",
    "    pickle.dump(big_list, outfilez)\n",
    "    outfilez.close() \n",
    "    \n",
    "    return big_list\n"
   ]
  },
  {
   "cell_type": "code",
   "execution_count": 126,
   "metadata": {},
   "outputs": [],
   "source": [
    "A = patches_n_folder(500, 20)"
   ]
  },
  {
   "cell_type": "code",
   "execution_count": 118,
   "metadata": {},
   "outputs": [
    {
     "data": {
      "text/plain": [
       "5997"
      ]
     },
     "execution_count": 118,
     "metadata": {},
     "output_type": "execute_result"
    }
   ],
   "source": [
    "len(A)"
   ]
  },
  {
   "cell_type": "code",
   "execution_count": 119,
   "metadata": {},
   "outputs": [
    {
     "data": {
      "text/plain": [
       "5997"
      ]
     },
     "execution_count": 119,
     "metadata": {},
     "output_type": "execute_result"
    }
   ],
   "source": [
    "A.sort(key = lambda x:x[1], reverse = False)\n",
    "len(A)"
   ]
  },
  {
   "cell_type": "code",
   "execution_count": 120,
   "metadata": {},
   "outputs": [
    {
     "data": {
      "text/plain": [
       "(array([117., 129., 126., 102., 104., 107., 103., 106., 108.],\n",
       "       dtype=float32),\n",
       " 254.91837)"
      ]
     },
     "execution_count": 120,
     "metadata": {},
     "output_type": "execute_result"
    }
   ],
   "source": [
    "m= -500\n",
    "A[m]"
   ]
  },
  {
   "cell_type": "code",
   "execution_count": 122,
   "metadata": {},
   "outputs": [
    {
     "data": {
      "image/png": "[encoded data removed]",
      "text/plain": [
       "<Figure size 640x480 with 1 Axes>"
      ]
     },
     "metadata": {},
     "output_type": "display_data"
    }
   ],
   "source": [
    "plt.imshow(A[m][0].reshape(3,3))\n",
    "plt.gray()"
   ]
  },
  {
   "cell_type": "code",
   "execution_count": 84,
   "metadata": {},
   "outputs": [],
   "source": [
    "A.sort(key = lambda x:x[1], reverse = False)"
   ]
  },
  {
   "cell_type": "code",
   "execution_count": 44,
   "metadata": {},
   "outputs": [],
   "source": [
    "\n",
    "\n",
    "\n",
    "\n",
    "\n",
    "\n",
    "def jet_heatmap_gray(heatmap, img_path):\n",
    "\n",
    "    \"\"\"Obtain jet heat map in grayscale\n",
    "    input: Input is the 8x8 heatmap\n",
    "    output: Returns a 2D array of size img.shape[:2]\n",
    "\n",
    "    \"\"\"\n",
    "    #heatmap = get_heatmap(img_path)\n",
    "    A = np.zeros(shape= (8,8,3), dtype= \"float128\").astype(np.float128)\n",
    "    A[:,:,0] = heatmap\n",
    "    A[:,:,1] = heatmap\n",
    "    A[:,:,2] = heatmap\n",
    "\n",
    "    img = keras.preprocessing.image.load_img(img_path)\n",
    "    img = keras.preprocessing.image.img_to_array(img)\n",
    "    \n",
    "\n",
    "    heatmap_test = keras.preprocessing.image.array_to_img(A)\n",
    "    heatmap_test = heatmap_test.resize((img.shape[1], img.shape[0]))\n",
    "    heatmap_gray = keras.preprocessing.image.img_to_array(heatmap_test)\n",
    "\n",
    "    return img, img.shape, heatmap_gray[:,:,0]\n",
    "\n",
    "\n",
    "\n",
    "\n",
    "\n",
    "def prob_gray(heat_data):\n",
    "\n",
    "    \"\"\"\n",
    "    Input: 8x8 heatmap\n",
    "    Output: List of intensities at each pixel\n",
    "    The intensities summed up to 1\n",
    "    \"\"\"\n",
    "    heat_data = heat_data.astype(np.float128)\n",
    "    heat_data = 1/heat_data.max()*heat_data\n",
    "    heat_data = np.exp(heat_data)\n",
    "    heat_data = np.exp(heat_data)\n",
    "    heat_data = np.exp(heat_data)\n",
    "    heat_data = (np.exp(1)+ heat_data)**3\n",
    "    max_sum = np.sum(heat_data)\n",
    "    prob_gray_im = 1/max_sum* heat_data\n",
    "    \n",
    "    \n",
    "\n",
    "    prob_gray_im = np.round(prob_gray_im, decimals= 16)\n",
    "    return list(prob_gray_im.flatten()), np.asarray(list(prob_gray_im.flatten())).astype(np.float128)\n",
    "\n",
    "\n",
    "\n",
    "\n",
    "def red_regions_index(heatmap, img_path, n):\n",
    "\n",
    "\n",
    "\n",
    "    img_arr, shape_, heat_data = jet_heatmap_gray(heatmap, img_path)\n",
    "    prob_data,_ = prob_gray(heat_data)\n",
    "    array_prob_data = np.asarray(prob_data)\n",
    "    array_prob_data = array_prob_data.astype(np.float64)\n",
    "    array_prob_data[array_prob_data.argmax()]+=(1- array_prob_data.sum())\n",
    "    \n",
    "    a = shape_[0]\n",
    "    b = shape_[1]\n",
    "    A = np.arange(a)\n",
    "    B = np.arange(b)\n",
    "    C = list(product(A,B))\n",
    "\n",
    "    index_regions = np.random.choice(len(prob_data), n, replace=False, p= list(array_prob_data))\n",
    "\n",
    "    return img_arr, index_regions, C\n",
    "\n",
    "\n",
    "\n"
   ]
  },
  {
   "cell_type": "code",
   "execution_count": 34,
   "metadata": {},
   "outputs": [],
   "source": [
    "with open('heatmap_folder/n01748264_gray_heatmap/n01748264_1.JPEG_heat_data.pckl', 'rb') as handle:\n",
    "    heatmap= pickle.load(handle)"
   ]
  },
  {
   "cell_type": "code",
   "execution_count": 13,
   "metadata": {},
   "outputs": [],
   "source": [
    "with open('patches0_:2_3.pckl', 'rb') as handle:\n",
    "    A= pickle.load(handle)"
   ]
  },
  {
   "cell_type": "code",
   "execution_count": 14,
   "metadata": {},
   "outputs": [
    {
     "data": {
      "text/plain": [
       "867483"
      ]
     },
     "execution_count": 14,
     "metadata": {},
     "output_type": "execute_result"
    }
   ],
   "source": [
    "len(A)"
   ]
  },
  {
   "cell_type": "code",
   "execution_count": 35,
   "metadata": {},
   "outputs": [],
   "source": [
    "img_path = 'data_folders_gray/n01748264_gray/n01748264_1.JPEG'"
   ]
  },
  {
   "cell_type": "code",
   "execution_count": 62,
   "metadata": {},
   "outputs": [],
   "source": [
    "n= 900\n",
    "_, _, heatdata = jet_heatmap_gray(heatmap, img_path)\n",
    "img_array, indexes, array = red_regions_index(heatmap, img_path, n)\n"
   ]
  },
  {
   "cell_type": "code",
   "execution_count": 59,
   "metadata": {},
   "outputs": [
    {
     "data": {
      "text/plain": [
       "<matplotlib.image.AxesImage at 0x7ff6f89d29d0>"
      ]
     },
     "execution_count": 59,
     "metadata": {},
     "output_type": "execute_result"
    },
    {
     "data": {
      "image/png": "[encoded data removed]",
      "text/plain": [
       "<Figure size 640x480 with 1 Axes>"
      ]
     },
     "metadata": {},
     "output_type": "display_data"
    }
   ],
   "source": [
    "plt.imshow(heatdata)"
   ]
  },
  {
   "cell_type": "code",
   "execution_count": 64,
   "metadata": {},
   "outputs": [
    {
     "data": {
      "text/plain": [
       "<matplotlib.image.AxesImage at 0x7ff6e2c3ee50>"
      ]
     },
     "execution_count": 64,
     "metadata": {},
     "output_type": "execute_result"
    },
    {
     "data": {
      "image/png": "[encoded data removed]",
      "text/plain": [
       "<Figure size 640x480 with 1 Axes>"
      ]
     },
     "metadata": {},
     "output_type": "display_data"
    }
   ],
   "source": [
    "plt.imshow(img_array[:, :, 0][array[indexes[m]][0]:(array[indexes[m]][0])+3, array[indexes[m]][1]:array[indexes[m]][1]+3])"
   ]
  },
  {
   "cell_type": "code",
   "execution_count": 63,
   "metadata": {},
   "outputs": [
    {
     "data": {
      "text/plain": [
       "(204, 217)"
      ]
     },
     "execution_count": 63,
     "metadata": {},
     "output_type": "execute_result"
    }
   ],
   "source": [
    " m = 0\n",
    "array[indexes[m]]"
   ]
  },
  {
   "cell_type": "code",
   "execution_count": 38,
   "metadata": {},
   "outputs": [
    {
     "data": {
      "image/jpeg": "[encoded data removed]",
      "text/plain": [
       "<IPython.core.display.Image object>"
      ]
     },
     "metadata": {},
     "output_type": "display_data"
    }
   ],
   "source": [
    "display(Image1(img_path))"
   ]
  },
  {
   "cell_type": "code",
   "execution_count": 16,
   "metadata": {},
   "outputs": [],
   "source": [
    "outfilez = open('patches0_:30_1u.pckl', 'wb')\n",
    "pickle.dump(B, outfilez)\n",
    "outfilez.close() \n"
   ]
  },
  {
   "cell_type": "code",
   "execution_count": 18,
   "metadata": {},
   "outputs": [
    {
     "data": {
      "image/png": "[encoded data removed]",
      "text/plain": [
       "<Figure size 640x480 with 1 Axes>"
      ]
     },
     "metadata": {},
     "output_type": "display_data"
    }
   ],
   "source": [
    "plt.imshow(B[545].reshape(3,3))\n",
    "plt.gray()"
   ]
  },
  {
   "cell_type": "code",
   "execution_count": null,
   "metadata": {},
   "outputs": [],
   "source": [
    "import pickle\n",
    "\n",
    "outfilez = open('D-sort_patches0_:30_1.pckl', 'wb')\n",
    "pickle.dump(A, outfilez)\n",
    "outfilez.close() \n"
   ]
  },
  {
   "cell_type": "code",
   "execution_count": null,
   "metadata": {},
   "outputs": [],
   "source": [
    "import math\n",
    "A = A_1[0:math.ceil(50/100*len(A_1))]"
   ]
  },
  {
   "cell_type": "code",
   "execution_count": null,
   "metadata": {},
   "outputs": [],
   "source": [
    "len(A)"
   ]
  },
  {
   "cell_type": "code",
   "execution_count": null,
   "metadata": {},
   "outputs": [],
   "source": [
    "import pickle\n",
    "\n",
    "with open('D-sort_patches0_:30_1.pckl', 'rb') as handle:\n",
    "    Q= pickle.load(handle)\n",
    "\n",
    "with open('patches30_:60.pckl', 'rb') as handle:\n",
    "    P= pickle.load(handle)"
   ]
  },
  {
   "cell_type": "code",
   "execution_count": null,
   "metadata": {},
   "outputs": [],
   "source": [
    "import math\n",
    "\n",
    "A = list(Q[0:math.ceil(50/100*len(Q))])\n",
    "#B = list(Q[0:math.ceil(50/100*len(P))])"
   ]
  },
  {
   "cell_type": "code",
   "execution_count": null,
   "metadata": {},
   "outputs": [],
   "source": [
    "A.extend(list(P))\n"
   ]
  },
  {
   "cell_type": "code",
   "execution_count": null,
   "metadata": {},
   "outputs": [],
   "source": [
    "import numpy as np\n",
    "\n",
    "array_C = np.asarray(A)"
   ]
  },
  {
   "cell_type": "code",
   "execution_count": null,
   "metadata": {},
   "outputs": [],
   "source": [
    "A_1 = merge_Dnorm_list(array_C)\n",
    "\n",
    "A_1 = np.asarray(A_1)"
   ]
  },
  {
   "cell_type": "code",
   "execution_count": null,
   "metadata": {},
   "outputs": [],
   "source": [
    "\n",
    "P = list(A_1[0:math.ceil(10/100*len(A_1))])"
   ]
  },
  {
   "cell_type": "code",
   "execution_count": null,
   "metadata": {},
   "outputs": [],
   "source": [
    "import matplotlib.pyplot as plt\n",
    "import matplotlib.patches as patches\n",
    "import numpy as np\n",
    "import math\n",
    "from sklearn.manifold import Isomap\n",
    "from numpy.linalg import norm\n",
    "from ripser import ripser\n",
    "from persim import plot_diagrams\n",
    "import warnings\n",
    "warnings.filterwarnings('ignore')"
   ]
  },
  {
   "cell_type": "code",
   "execution_count": null,
   "metadata": {},
   "outputs": [],
   "source": [
    "import numpy as np\n",
    "from sklearn.neighbors import KDTree\n",
    "\n",
    "def dense_sort_data(k, perc, n):\n",
    "    P = patches_n_folder(n)\n",
    "\n",
    "    tree = KDTree(P, leaf_size =40)\n",
    "    dist, ind = tree.query(P, k)\n",
    "\n",
    "    data_sort = list(zip(list(P), dist[:,k-1]))\n",
    "    len_data = len(data_sort)\n",
    "\n",
    "    data_sort.sort(key = lambda x:x[1], reverse = False)\n",
    "\n",
    "    B = list(zip(*data_sort[0:math.ceil(perc/100*len_data)]))[0]\n",
    "\n",
    "    return np.asarray(B)\n"
   ]
  },
  {
   "cell_type": "code",
   "execution_count": 2,
   "metadata": {},
   "outputs": [
    {
     "data": {
      "text/plain": [
       "(6, 3)"
      ]
     },
     "execution_count": 2,
     "metadata": {},
     "output_type": "execute_result"
    }
   ],
   "source": [
    "import numpy as np\n",
    "\n",
    "A = np.array([[1,2,3], [2,3,4], [4,9,9], [8,9,0], [78,9 ,-3], [23, 45, 7]])\n",
    "A.shape"
   ]
  },
  {
   "cell_type": "code",
   "execution_count": 4,
   "metadata": {},
   "outputs": [
    {
     "ename": "ValueError",
     "evalue": "a must be 1-dimensional",
     "output_type": "error",
     "traceback": [
      "\u001b[0;31m---------------------------------------------------------------------------\u001b[0m",
      "\u001b[0;31mValueError\u001b[0m                                Traceback (most recent call last)",
      "Cell \u001b[0;32mIn[4], line 1\u001b[0m\n\u001b[0;32m----> 1\u001b[0m B \u001b[39m=\u001b[39m np\u001b[39m.\u001b[39;49mrandom\u001b[39m.\u001b[39;49mchoice(\u001b[39mlist\u001b[39;49m(A), \u001b[39m3\u001b[39;49m)\n\u001b[1;32m      2\u001b[0m B\n",
      "File \u001b[0;32mmtrand.pyx:911\u001b[0m, in \u001b[0;36mnumpy.random.mtrand.RandomState.choice\u001b[0;34m()\u001b[0m\n",
      "\u001b[0;31mValueError\u001b[0m: a must be 1-dimensional"
     ]
    }
   ],
   "source": [
    "B = np.random.choice(list(A), 3)\n",
    "B"
   ]
  },
  {
   "cell_type": "code",
   "execution_count": null,
   "metadata": {},
   "outputs": [],
   "source": []
  }
 ],
 "metadata": {
  "kernelspec": {
   "display_name": "fibered",
   "language": "python",
   "name": "python3"
  },
  "language_info": {
   "codemirror_mode": {
    "name": "ipython",
    "version": 3
   },
   "file_extension": ".py",
   "mimetype": "text/x-python",
   "name": "python",
   "nbconvert_exporter": "python",
   "pygments_lexer": "ipython3",
   "version": "3.9.15"
  },
  "orig_nbformat": 4
 },
 "nbformat": 4,
 "nbformat_minor": 2
}
