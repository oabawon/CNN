{
 "cells": [
  {
   "cell_type": "code",
   "execution_count": 12,
   "id": "890ce6b7-0db3-4c79-98b6-6a45b80dc5c4",
   "metadata": {},
   "outputs": [],
   "source": [
    "\n",
    "import pandas as pd\n",
    "import numpy as np\n",
    "import tensorflow as tf\n",
    "import matplotlib.pyplot as plt\n",
    "import seaborn as sns\n",
    "import gc\n",
    "\n",
    "\n",
    "\n",
    "\n",
    "import random,pickle,csv,cv2,os,scipy,pickle,warnings,matplotlib\n",
    "# Load in relevant libraries, and alias where appropriate\n",
    "import torch\n",
    "import torch.nn as nn\n",
    "import torchvision\n",
    "import torchvision.transforms as transforms\n",
    "\n",
    "# Define relevant variables for the ML task\n",
    "batch_size = 64\n",
    "num_classes = 64\n",
    "learning_rate = 0.001\n",
    "num_epochs = 20\n",
    "\n",
    "# Device will determine whether to run the training on GPU or CPU.\n",
    "device = torch.device('cuda' if torch.cuda.is_available() else 'cpu')"
   ]
  },
  {
   "cell_type": "code",
   "execution_count": 1,
   "id": "e0cd9f84-ea1e-4bb8-a812-68c0b9c2d4a0",
   "metadata": {},
   "outputs": [],
   "source": [
    "import torch"
   ]
  },
  {
   "cell_type": "code",
   "execution_count": 29,
   "id": "6e8e8f10-ffa8-4f5f-943f-21006cbe63d8",
   "metadata": {},
   "outputs": [],
   "source": [
    "import pickle\n",
    "import numpy as np\n",
    "\n",
    "with open(\"features_train_1\", \"rb\") as f:\n",
    "    features = np.array(pickle.load(f))\n",
    "with open(\"labels_train_1\", \"rb\") as f:\n",
    "    labels = np.array(pickle.load(f))"
   ]
  },
  {
   "cell_type": "code",
   "execution_count": null,
   "id": "5498b4d7-061f-4caf-bede-efb65d131183",
   "metadata": {},
   "outputs": [],
   "source": []
  },
  {
   "cell_type": "code",
   "execution_count": 18,
   "id": "5353592c-093b-4722-bf85-e344faac21b2",
   "metadata": {},
   "outputs": [],
   "source": [
    "import zipfile\n",
    "\n",
    "with zipfile.ZipFile('new_dir.zip', 'r') as zip:\n",
    "    zip.extractall('self_driving_data')\n"
   ]
  },
  {
   "cell_type": "code",
   "execution_count": 7,
   "id": "7e748079-f5de-4fa5-8b65-b643e626d84d",
   "metadata": {},
   "outputs": [],
   "source": [
    "def image_preprocessing(img):\n",
    "    resized_image = cv2.resize((cv2.cvtColor(img,cv2.COLOR_RGB2HSV))[:,:,2],(32,32))\n",
    "    return resized_image"
   ]
  },
  {
   "cell_type": "code",
   "execution_count": 8,
   "id": "aedfbfc4-fa0e-41e9-88d2-b4f9893f9f60",
   "metadata": {},
   "outputs": [],
   "source": [
    "def load_training(delta):\n",
    "    logs = []\n",
    "    features = []\n",
    "    labels = []\n",
    "    with open(labels_file,'rt') as f:\n",
    "        reader = csv.reader(f)\n",
    "        for line in reader:\n",
    "            logs.append(line)\n",
    "        log_labels = logs.pop(0)\n",
    "        \n",
    "    for i in range(len(logs)):\n",
    "        for j in range(3):\n",
    "            img_path = logs[i][j]\n",
    "            img_path = features_directory +  (img_path.split('IMG')[1]).strip()\n",
    "            img = plt.imread(img_path)\n",
    "            features.append(image_preprocessing(img))\n",
    "            \n",
    "            if j == 0:\n",
    "                labels.append(float(logs[i][3]))\n",
    "            elif j == 1:\n",
    "                labels.append(float(logs[i][3]) + delta)\n",
    "            else:\n",
    "                labels.append(float(logs[i][3]) - delta)\n",
    "    return features,labels"
   ]
  },
  {
   "cell_type": "code",
   "execution_count": 9,
   "id": "9d1278e0-e5a9-4942-a843-f56fbb067812",
   "metadata": {},
   "outputs": [],
   "source": [
    "features_directory = 'self_driving_data'\n",
    "#features_directory = '../input/self driving car training data/data/'\n",
    "labels_file = 'driving_log.csv'"
   ]
  },
  {
   "cell_type": "code",
   "execution_count": 10,
   "id": "49e3c24a-cba0-4953-baed-75f77004b9dc",
   "metadata": {},
   "outputs": [],
   "source": [
    "delta = 0.2\n",
    "features,labels = load_training(delta)\n",
    "\n",
    "features = np.array(features).astype('float32')\n",
    "labels = np.array(labels).astype('float32')\n",
    "\n",
    "with open('features_new1','wb') as f:\n",
    "    pickle.dump(features,f,protocol=4)\n",
    "with open('labels_new1','wb') as f:\n",
    "    pickle.dump(labels,f,protocol=4)"
   ]
  },
  {
   "cell_type": "code",
   "execution_count": 28,
   "id": "644c7391-3dd4-422e-9b55-78b81ced0b86",
   "metadata": {},
   "outputs": [],
   "source": [
    "#with open(\"features_new\", \"rb\") as f:\n",
    " #   features = np.array(pickle.load(f))\n",
    "with open(\"labels_new\", \"rb\") as f:\n",
    "    labels = np.array(pickle.load(f))"
   ]
  },
  {
   "cell_type": "code",
   "execution_count": 15,
   "id": "50dc4a00-2794-4742-a71f-11ebd913ee77",
   "metadata": {},
   "outputs": [],
   "source": [
    "new_features = []\n",
    "A = np.zeros(shape = (3,32,32))\n",
    "for i in range(len(features)):\n",
    "    A[0,:,:] = features[i]\n",
    "    A[1,:,:] = features[i]\n",
    "    A[2,:,:] = features[i]\n",
    "    new_features.append(A)\n",
    "\n",
    "    \n",
    "with open('features_3d','wb') as f:\n",
    "    pickle.dump(new_features,f,protocol=4)\n"
   ]
  },
  {
   "cell_type": "code",
   "execution_count": 4,
   "id": "e51a2229-385c-4ef8-be35-ee0a2cc69ea3",
   "metadata": {},
   "outputs": [],
   "source": [
    "with open(\"features_3d\", \"rb\") as f:\n",
    "    features = np.array(pickle.load(f))\n"
   ]
  },
  {
   "cell_type": "code",
   "execution_count": 29,
   "id": "bf16cbed-654d-4842-9728-357dd1bb4b1e",
   "metadata": {},
   "outputs": [],
   "source": [
    "features = torch.FloatTensor(features)\n",
    "labels = torch.FloatTensor(labels)\n",
    "labels = labels.unsqueeze(1)\n",
    "A = list(features)\n",
    "B = list(labels)\n",
    "C = zip(A,B)\n",
    "D = list(C)"
   ]
  },
  {
   "cell_type": "code",
   "execution_count": 34,
   "id": "3b4b9c4a-c0cd-44bc-bc83-4c14fdda6d87",
   "metadata": {},
   "outputs": [
    {
     "data": {
      "text/plain": [
       "torch.Size([3, 32, 32])"
      ]
     },
     "execution_count": 34,
     "metadata": {},
     "output_type": "execute_result"
    }
   ],
   "source": [
    "D[0][0].shape"
   ]
  },
  {
   "cell_type": "code",
   "execution_count": 7,
   "id": "b030cfae-ea7c-4d40-b5b1-9a6f24468da0",
   "metadata": {},
   "outputs": [
    {
     "data": {
      "image/png": "[encoded data removed]",
      "text/plain": [
       "<Figure size 432x288 with 1 Axes>"
      ]
     },
     "metadata": {
      "needs_background": "light"
     },
     "output_type": "display_data"
    }
   ],
   "source": [
    "plt.imshow(features[5000])\n",
    "plt.gray()"
   ]
  },
  {
   "cell_type": "code",
   "execution_count": 30,
   "id": "968ab507-1516-4338-9890-0528f677c5b5",
   "metadata": {},
   "outputs": [],
   "source": [
    "# Use transforms.compose method to reformat images for modeling,\n",
    "# and save to variable all_transforms for later use\n",
    "all_transforms = transforms.Compose([transforms.Resize((40,40)),\n",
    "                                     transforms.ToTensor(),\n",
    "                                     transforms.Normalize(mean=[0.4914, 0.4822, 0.4465],\n",
    "                                                          std=[0.2023, 0.1994, 0.2010])\n",
    "                                     ])\n",
    "# Create Training dataset\n",
    "#train_dataset = torchvision.datasets.CIFAR10(root = './data',\n",
    " #                                            train = True,\n",
    "  #                                           transform = all_transforms,\n",
    "   #                                          download = False)\n",
    "\n",
    "# Create Testing dataset\n",
    "#test_dataset = torchvision.datasets.CIFAR10(root = './data',\n",
    " #                                           train = False,\n",
    "  #                                          transform = all_transforms,\n",
    "   #                                         download=True)\n",
    "\n",
    "# Instantiate loader objects to facilitate processing\n",
    "train_loader = torch.utils.data.DataLoader(dataset = D,\n",
    "                                           batch_size = batch_size,\n",
    "                                           shuffle = True)\n",
    "\n",
    "\n",
    "#test_loader = torch.utils.data.DataLoader(dataset = test_dataset,\n",
    " #                                          batch_size = batch_size,\n",
    "  #                                         shuffle = True)"
   ]
  },
  {
   "cell_type": "code",
   "execution_count": 26,
   "id": "750a1d48-0593-4899-9f4f-8b8e548716d7",
   "metadata": {},
   "outputs": [
    {
     "data": {
      "text/plain": [
       "24108"
      ]
     },
     "execution_count": 26,
     "metadata": {},
     "output_type": "execute_result"
    }
   ],
   "source": [
    "len(D)"
   ]
  },
  {
   "cell_type": "code",
   "execution_count": 8,
   "id": "a375a519-c1a8-463f-a31d-b41bd5273ee5",
   "metadata": {},
   "outputs": [
    {
     "data": {
      "text/plain": [
       "torch.Size([64, 3, 32, 32])"
      ]
     },
     "execution_count": 8,
     "metadata": {},
     "output_type": "execute_result"
    }
   ],
   "source": [
    "A[0][0].shape"
   ]
  },
  {
   "cell_type": "code",
   "execution_count": 37,
   "id": "891542b6-ac44-4f8b-a90a-9bc314305cf1",
   "metadata": {},
   "outputs": [],
   "source": [
    "# Creating a CNN class\n",
    "class ConvNeuralNet(nn.Module):\n",
    "\t#  Determine what layers and their order in CNN object \n",
    "    def __init__(self, num_classes):\n",
    "        super(ConvNeuralNet, self).__init__()\n",
    "        self.conv_layer1 = nn.Conv2d(in_channels=3, out_channels=32, kernel_size=3)\n",
    "        self.conv_layer2 = nn.Conv2d(in_channels=32, out_channels=32, kernel_size=3)\n",
    "        self.max_pool1 = nn.MaxPool2d(kernel_size = 2, stride = 2)\n",
    "        \n",
    "        self.conv_layer3 = nn.Conv2d(in_channels=32, out_channels=64, kernel_size=3)\n",
    "        self.conv_layer4 = nn.Conv2d(in_channels=64, out_channels=64, kernel_size=3)\n",
    "        self.max_pool2 = nn.MaxPool2d(kernel_size = 2, stride = 2)\n",
    "        \n",
    "        self.fc1 = nn.Linear(1600, 1)\n",
    "        self.relu1 = nn.ReLU()\n",
    "        self.fc2 = nn.Linear(128, num_classes)\n",
    "    \n",
    "    # Progresses data across layers    \n",
    "    def forward(self, x):\n",
    "        out = self.conv_layer1(x)\n",
    "        out = self.conv_layer2(out)\n",
    "        out = self.max_pool1(out)\n",
    "        \n",
    "        out = self.conv_layer3(out)\n",
    "        out = self.conv_layer4(out)\n",
    "        out = self.max_pool2(out)\n",
    "                \n",
    "        out = out.reshape(out.size(0), -1)\n",
    "        \n",
    "        out = self.fc1(out)\n",
    "        out = self.relu1(out)\n",
    "        #out = self.fc2(out)\n",
    "        return out"
   ]
  },
  {
   "cell_type": "code",
   "execution_count": 38,
   "id": "d0ee01fd-6c37-4b99-9ea2-1fe67e8916bf",
   "metadata": {},
   "outputs": [],
   "source": [
    "model = ConvNeuralNet(num_classes)\n",
    "\n",
    "model = model.to(device)\n",
    "\n",
    "# Set Loss function with criterion\n",
    "#criterion = nn.CrossEntropyLoss()\n",
    "criterion = nn.MSELoss()\n",
    "\n",
    "# Set optimizer with optimizer\n",
    "optimizer = torch.optim.SGD(model.parameters(), lr=learning_rate, weight_decay = 0.005, momentum = 0.9)  \n",
    "\n",
    "total_step = len(train_loader)"
   ]
  },
  {
   "cell_type": "code",
   "execution_count": 39,
   "id": "1fca6903-484d-485e-9b50-051e2ccf753b",
   "metadata": {},
   "outputs": [
    {
     "name": "stdout",
     "output_type": "stream",
     "text": [
      "Epoch [1/20], Loss: 0.0507\n",
      "Epoch [2/20], Loss: 0.0388\n",
      "Epoch [3/20], Loss: 0.0433\n",
      "Epoch [4/20], Loss: 0.0362\n",
      "Epoch [5/20], Loss: 0.0554\n",
      "Epoch [6/20], Loss: 0.0258\n",
      "Epoch [7/20], Loss: 0.0502\n",
      "Epoch [8/20], Loss: 0.0524\n",
      "Epoch [9/20], Loss: 0.0336\n",
      "Epoch [10/20], Loss: 0.0434\n",
      "Epoch [11/20], Loss: 0.0487\n",
      "Epoch [12/20], Loss: 0.0588\n",
      "Epoch [13/20], Loss: 0.0525\n",
      "Epoch [14/20], Loss: 0.0402\n",
      "Epoch [15/20], Loss: 0.0446\n",
      "Epoch [16/20], Loss: 0.0573\n",
      "Epoch [17/20], Loss: 0.0551\n",
      "Epoch [18/20], Loss: 0.0514\n",
      "Epoch [19/20], Loss: 0.0329\n",
      "Epoch [20/20], Loss: 0.0350\n"
     ]
    }
   ],
   "source": [
    "# We use the pre-defined number of epochs to determine how many iterations to train the network on\n",
    "for epoch in range(num_epochs):\n",
    "\t#Load in the data in batches using the train_loader object\n",
    "    for i, (images, labels) in enumerate(train_loader):  \n",
    "        # Move tensors to the configured device\n",
    "        images = images.to(device)\n",
    "        labels = labels.to(device)\n",
    "        \n",
    "        # Forward pass\n",
    "        outputs = model(images)\n",
    "        loss = criterion(outputs, labels)\n",
    "        \n",
    "        # Backward and optimize\n",
    "        optimizer.zero_grad()\n",
    "        loss.backward()\n",
    "        optimizer.step()\n",
    "\n",
    "    print('Epoch [{}/{}], Loss: {:.4f}'.format(epoch+1, num_epochs, loss.item()))"
   ]
  },
  {
   "cell_type": "code",
   "execution_count": 9,
   "id": "181d7b4e-2559-4db0-baf3-9c232cb83865",
   "metadata": {},
   "outputs": [
    {
     "name": "stdout",
     "output_type": "stream",
     "text": [
      "Accuracy of the network on the 50000 train images: 69.6 %\n"
     ]
    }
   ],
   "source": [
    "with torch.no_grad():\n",
    "    correct = 0\n",
    "    total = 0\n",
    "    for images, labels in test_loader:\n",
    "        images = images.to(device)\n",
    "        labels = labels.to(device)\n",
    "        outputs = model(images)\n",
    "        _, predicted = torch.max(outputs.data, 1)\n",
    "        total += labels.size(0)\n",
    "        correct += (predicted == labels).sum().item()\n",
    "    \n",
    "    print('Accuracy of the network on the {} train images: {} %'.format(50000, 100 * correct / total))"
   ]
  },
  {
   "cell_type": "code",
   "execution_count": null,
   "id": "0efdbcc7-662a-497f-b6ac-374f1e9f99b9",
   "metadata": {},
   "outputs": [],
   "source": []
  }
 ],
 "metadata": {
  "kernelspec": {
   "display_name": "Python 3",
   "language": "python",
   "name": "python3"
  },
  "language_info": {
   "codemirror_mode": {
    "name": "ipython",
    "version": 3
   },
   "file_extension": ".py",
   "mimetype": "text/x-python",
   "name": "python",
   "nbconvert_exporter": "python",
   "pygments_lexer": "ipython3",
   "version": "3.8.8"
  }
 },
 "nbformat": 4,
 "nbformat_minor": 5
}
